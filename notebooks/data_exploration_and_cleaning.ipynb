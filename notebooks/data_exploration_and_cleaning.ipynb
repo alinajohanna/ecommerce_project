{
 "cells": [
  {
   "cell_type": "markdown",
   "id": "f4891ff0",
   "metadata": {},
   "source": [
    "# E-Commerce - Users and Orders EMEA\n",
    "## Data Cleaning\n",
    "\n",
    "\"TheLook is a fictitious eCommerce clothing site developed by the Looker team. The dataset contains information about customers, products, orders, logistics, web events and digital marketing campaigns. The contents of this dataset are synthetic, and are provided to industry practitioners for the purpose of product discovery, testing, and evaluation.\"\n",
    "\n",
    "Not all information will be subject in this project. The further analysis will be conducted based on the following query.\n",
    "\n",
    "The data frame contains information about registered users of the fictional E-commerce store.\n",
    "If a user made a purchase the data frame will also list information about the respective order."
   ]
  },
  {
   "cell_type": "code",
   "execution_count": 1,
   "id": "5ba13cd0",
   "metadata": {},
   "outputs": [],
   "source": [
    "import pandas as pd\n",
    "import numpy as np\n",
    "import matplotlib.pyplot as plt\n",
    "import seaborn as sns\n",
    "from datetime import datetime, timezone"
   ]
  },
  {
   "cell_type": "code",
   "execution_count": 2,
   "id": "f63a5c60",
   "metadata": {},
   "outputs": [],
   "source": [
    "df = pd.read_csv('../data/raw/ecommerce_users_orders_europe.csv')\n"
   ]
  },
  {
   "cell_type": "code",
   "execution_count": 3,
   "id": "e6821c1f",
   "metadata": {},
   "outputs": [
    {
     "data": {
      "text/html": [
       "<div>\n",
       "<style scoped>\n",
       "    .dataframe tbody tr th:only-of-type {\n",
       "        vertical-align: middle;\n",
       "    }\n",
       "\n",
       "    .dataframe tbody tr th {\n",
       "        vertical-align: top;\n",
       "    }\n",
       "\n",
       "    .dataframe thead th {\n",
       "        text-align: right;\n",
       "    }\n",
       "</style>\n",
       "<table border=\"1\" class=\"dataframe\">\n",
       "  <thead>\n",
       "    <tr style=\"text-align: right;\">\n",
       "      <th></th>\n",
       "      <th>user_id</th>\n",
       "      <th>first_name</th>\n",
       "      <th>last_name</th>\n",
       "      <th>age</th>\n",
       "      <th>gender</th>\n",
       "      <th>state</th>\n",
       "      <th>street_address</th>\n",
       "      <th>postal_code</th>\n",
       "      <th>city</th>\n",
       "      <th>country</th>\n",
       "      <th>registered_on</th>\n",
       "      <th>user_traffic_source</th>\n",
       "      <th>order_id</th>\n",
       "      <th>order_status</th>\n",
       "      <th>order_created_at</th>\n",
       "      <th>num_of_item</th>\n",
       "      <th>revenue</th>\n",
       "    </tr>\n",
       "  </thead>\n",
       "  <tbody>\n",
       "    <tr>\n",
       "      <th>0</th>\n",
       "      <td>30231</td>\n",
       "      <td>Michael</td>\n",
       "      <td>Burch</td>\n",
       "      <td>25</td>\n",
       "      <td>M</td>\n",
       "      <td>Andalucía</td>\n",
       "      <td>40146 Ferguson Road</td>\n",
       "      <td>4117</td>\n",
       "      <td>San Isidro de Níjar</td>\n",
       "      <td>Spain</td>\n",
       "      <td>2019-08-04 17:10:00 UTC</td>\n",
       "      <td>Search</td>\n",
       "      <td>NaN</td>\n",
       "      <td>NaN</td>\n",
       "      <td>NaN</td>\n",
       "      <td>NaN</td>\n",
       "      <td>NaN</td>\n",
       "    </tr>\n",
       "    <tr>\n",
       "      <th>1</th>\n",
       "      <td>63740</td>\n",
       "      <td>Ryan</td>\n",
       "      <td>Munoz</td>\n",
       "      <td>41</td>\n",
       "      <td>M</td>\n",
       "      <td>Andalucía</td>\n",
       "      <td>577 Laurie Stravenue</td>\n",
       "      <td>4117</td>\n",
       "      <td>San Isidro de Níjar</td>\n",
       "      <td>Spain</td>\n",
       "      <td>2023-02-16 00:23:00 UTC</td>\n",
       "      <td>Search</td>\n",
       "      <td>79733.0</td>\n",
       "      <td>Cancelled</td>\n",
       "      <td>2023-07-05 00:23:00 UTC</td>\n",
       "      <td>1.0</td>\n",
       "      <td>89.989998</td>\n",
       "    </tr>\n",
       "    <tr>\n",
       "      <th>2</th>\n",
       "      <td>81229</td>\n",
       "      <td>Bradley</td>\n",
       "      <td>Gomez</td>\n",
       "      <td>30</td>\n",
       "      <td>M</td>\n",
       "      <td>Andalucía</td>\n",
       "      <td>61977 Sara Neck</td>\n",
       "      <td>4117</td>\n",
       "      <td>San Isidro de Níjar</td>\n",
       "      <td>Spain</td>\n",
       "      <td>2021-10-30 06:51:00 UTC</td>\n",
       "      <td>Organic</td>\n",
       "      <td>101551.0</td>\n",
       "      <td>Cancelled</td>\n",
       "      <td>2022-04-25 06:51:00 UTC</td>\n",
       "      <td>2.0</td>\n",
       "      <td>29.980000</td>\n",
       "    </tr>\n",
       "    <tr>\n",
       "      <th>3</th>\n",
       "      <td>83889</td>\n",
       "      <td>Jennifer</td>\n",
       "      <td>Morgan</td>\n",
       "      <td>52</td>\n",
       "      <td>F</td>\n",
       "      <td>Andalucía</td>\n",
       "      <td>248 Murphy Parkway Apt. 083</td>\n",
       "      <td>4100</td>\n",
       "      <td>Campohermoso</td>\n",
       "      <td>Spain</td>\n",
       "      <td>2020-03-31 17:12:00 UTC</td>\n",
       "      <td>Organic</td>\n",
       "      <td>104928.0</td>\n",
       "      <td>Cancelled</td>\n",
       "      <td>2021-10-27 17:12:00 UTC</td>\n",
       "      <td>1.0</td>\n",
       "      <td>30.209999</td>\n",
       "    </tr>\n",
       "    <tr>\n",
       "      <th>4</th>\n",
       "      <td>83889</td>\n",
       "      <td>Jennifer</td>\n",
       "      <td>Morgan</td>\n",
       "      <td>52</td>\n",
       "      <td>F</td>\n",
       "      <td>Andalucía</td>\n",
       "      <td>248 Murphy Parkway Apt. 083</td>\n",
       "      <td>4100</td>\n",
       "      <td>Campohermoso</td>\n",
       "      <td>Spain</td>\n",
       "      <td>2020-03-31 17:12:00 UTC</td>\n",
       "      <td>Organic</td>\n",
       "      <td>104927.0</td>\n",
       "      <td>Processing</td>\n",
       "      <td>2023-08-03 17:12:00 UTC</td>\n",
       "      <td>1.0</td>\n",
       "      <td>30.209999</td>\n",
       "    </tr>\n",
       "  </tbody>\n",
       "</table>\n",
       "</div>"
      ],
      "text/plain": [
       "   user_id first_name last_name  age gender      state  \\\n",
       "0    30231    Michael     Burch   25      M  Andalucía   \n",
       "1    63740       Ryan     Munoz   41      M  Andalucía   \n",
       "2    81229    Bradley     Gomez   30      M  Andalucía   \n",
       "3    83889   Jennifer    Morgan   52      F  Andalucía   \n",
       "4    83889   Jennifer    Morgan   52      F  Andalucía   \n",
       "\n",
       "                street_address postal_code                 city country  \\\n",
       "0          40146 Ferguson Road        4117  San Isidro de Níjar   Spain   \n",
       "1         577 Laurie Stravenue        4117  San Isidro de Níjar   Spain   \n",
       "2              61977 Sara Neck        4117  San Isidro de Níjar   Spain   \n",
       "3  248 Murphy Parkway Apt. 083        4100         Campohermoso   Spain   \n",
       "4  248 Murphy Parkway Apt. 083        4100         Campohermoso   Spain   \n",
       "\n",
       "             registered_on user_traffic_source  order_id order_status  \\\n",
       "0  2019-08-04 17:10:00 UTC              Search       NaN          NaN   \n",
       "1  2023-02-16 00:23:00 UTC              Search   79733.0    Cancelled   \n",
       "2  2021-10-30 06:51:00 UTC             Organic  101551.0    Cancelled   \n",
       "3  2020-03-31 17:12:00 UTC             Organic  104928.0    Cancelled   \n",
       "4  2020-03-31 17:12:00 UTC             Organic  104927.0   Processing   \n",
       "\n",
       "          order_created_at  num_of_item    revenue  \n",
       "0                      NaN          NaN        NaN  \n",
       "1  2023-07-05 00:23:00 UTC          1.0  89.989998  \n",
       "2  2022-04-25 06:51:00 UTC          2.0  29.980000  \n",
       "3  2021-10-27 17:12:00 UTC          1.0  30.209999  \n",
       "4  2023-08-03 17:12:00 UTC          1.0  30.209999  "
      ]
     },
     "execution_count": 3,
     "metadata": {},
     "output_type": "execute_result"
    }
   ],
   "source": [
    "df.head()"
   ]
  },
  {
   "cell_type": "code",
   "execution_count": 4,
   "id": "c9192723",
   "metadata": {},
   "outputs": [
    {
     "data": {
      "text/html": [
       "<div>\n",
       "<style scoped>\n",
       "    .dataframe tbody tr th:only-of-type {\n",
       "        vertical-align: middle;\n",
       "    }\n",
       "\n",
       "    .dataframe tbody tr th {\n",
       "        vertical-align: top;\n",
       "    }\n",
       "\n",
       "    .dataframe thead th {\n",
       "        text-align: right;\n",
       "    }\n",
       "</style>\n",
       "<table border=\"1\" class=\"dataframe\">\n",
       "  <thead>\n",
       "    <tr style=\"text-align: right;\">\n",
       "      <th></th>\n",
       "      <th>user_id</th>\n",
       "      <th>age</th>\n",
       "      <th>order_id</th>\n",
       "      <th>num_of_item</th>\n",
       "      <th>revenue</th>\n",
       "    </tr>\n",
       "  </thead>\n",
       "  <tbody>\n",
       "    <tr>\n",
       "      <th>count</th>\n",
       "      <td>27734.000000</td>\n",
       "      <td>27734.000000</td>\n",
       "      <td>23837.000000</td>\n",
       "      <td>23837.000000</td>\n",
       "      <td>23837.000000</td>\n",
       "    </tr>\n",
       "    <tr>\n",
       "      <th>mean</th>\n",
       "      <td>49949.081885</td>\n",
       "      <td>41.000108</td>\n",
       "      <td>62282.122583</td>\n",
       "      <td>1.450854</td>\n",
       "      <td>177.780300</td>\n",
       "    </tr>\n",
       "    <tr>\n",
       "      <th>std</th>\n",
       "      <td>28767.217681</td>\n",
       "      <td>17.066364</td>\n",
       "      <td>35952.180017</td>\n",
       "      <td>0.809142</td>\n",
       "      <td>163.481417</td>\n",
       "    </tr>\n",
       "    <tr>\n",
       "      <th>min</th>\n",
       "      <td>18.000000</td>\n",
       "      <td>12.000000</td>\n",
       "      <td>19.000000</td>\n",
       "      <td>1.000000</td>\n",
       "      <td>0.490000</td>\n",
       "    </tr>\n",
       "    <tr>\n",
       "      <th>25%</th>\n",
       "      <td>25049.500000</td>\n",
       "      <td>26.000000</td>\n",
       "      <td>31024.000000</td>\n",
       "      <td>1.000000</td>\n",
       "      <td>59.020002</td>\n",
       "    </tr>\n",
       "    <tr>\n",
       "      <th>50%</th>\n",
       "      <td>49914.500000</td>\n",
       "      <td>41.000000</td>\n",
       "      <td>62263.000000</td>\n",
       "      <td>1.000000</td>\n",
       "      <td>130.450001</td>\n",
       "    </tr>\n",
       "    <tr>\n",
       "      <th>75%</th>\n",
       "      <td>74803.250000</td>\n",
       "      <td>56.000000</td>\n",
       "      <td>93348.000000</td>\n",
       "      <td>2.000000</td>\n",
       "      <td>246.480007</td>\n",
       "    </tr>\n",
       "    <tr>\n",
       "      <th>max</th>\n",
       "      <td>99999.000000</td>\n",
       "      <td>70.000000</td>\n",
       "      <td>124831.000000</td>\n",
       "      <td>4.000000</td>\n",
       "      <td>1308.989998</td>\n",
       "    </tr>\n",
       "  </tbody>\n",
       "</table>\n",
       "</div>"
      ],
      "text/plain": [
       "            user_id           age       order_id   num_of_item       revenue\n",
       "count  27734.000000  27734.000000   23837.000000  23837.000000  23837.000000\n",
       "mean   49949.081885     41.000108   62282.122583      1.450854    177.780300\n",
       "std    28767.217681     17.066364   35952.180017      0.809142    163.481417\n",
       "min       18.000000     12.000000      19.000000      1.000000      0.490000\n",
       "25%    25049.500000     26.000000   31024.000000      1.000000     59.020002\n",
       "50%    49914.500000     41.000000   62263.000000      1.000000    130.450001\n",
       "75%    74803.250000     56.000000   93348.000000      2.000000    246.480007\n",
       "max    99999.000000     70.000000  124831.000000      4.000000   1308.989998"
      ]
     },
     "execution_count": 4,
     "metadata": {},
     "output_type": "execute_result"
    }
   ],
   "source": [
    "df.describe()"
   ]
  },
  {
   "cell_type": "code",
   "execution_count": 5,
   "id": "779b1b55",
   "metadata": {},
   "outputs": [
    {
     "data": {
      "text/plain": [
       "Index(['user_id', 'first_name', 'last_name', 'age', 'gender', 'state',\n",
       "       'street_address', 'postal_code', 'city', 'country', 'registered_on',\n",
       "       'user_traffic_source', 'order_id', 'order_status', 'order_created_at',\n",
       "       'num_of_item', 'revenue'],\n",
       "      dtype='object')"
      ]
     },
     "execution_count": 5,
     "metadata": {},
     "output_type": "execute_result"
    }
   ],
   "source": [
    "df.columns"
   ]
  },
  {
   "cell_type": "code",
   "execution_count": 6,
   "id": "7f8be55c",
   "metadata": {},
   "outputs": [
    {
     "data": {
      "text/plain": [
       "user_id                  int64\n",
       "first_name              object\n",
       "last_name               object\n",
       "age                      int64\n",
       "gender                  object\n",
       "state                   object\n",
       "street_address          object\n",
       "postal_code             object\n",
       "city                    object\n",
       "country                 object\n",
       "registered_on           object\n",
       "user_traffic_source     object\n",
       "order_id               float64\n",
       "order_status            object\n",
       "order_created_at        object\n",
       "num_of_item            float64\n",
       "revenue                float64\n",
       "dtype: object"
      ]
     },
     "execution_count": 6,
     "metadata": {},
     "output_type": "execute_result"
    }
   ],
   "source": [
    "df.dtypes"
   ]
  },
  {
   "cell_type": "code",
   "execution_count": 7,
   "id": "82eeb044",
   "metadata": {},
   "outputs": [],
   "source": [
    "# first convert the date columns to datetime\n",
    "date_cols = ['registered_on', 'order_created_at']\n",
    "\n",
    "for col in date_cols:\n",
    "    df[col] = pd.to_datetime(df[col], origin='unix', format='mixed', utc=True)"
   ]
  },
  {
   "cell_type": "code",
   "execution_count": 8,
   "id": "c5bddddb",
   "metadata": {},
   "outputs": [
    {
     "data": {
      "text/plain": [
       "user_id                             object\n",
       "first_name                          object\n",
       "last_name                           object\n",
       "age                                  int64\n",
       "gender                              object\n",
       "state                               object\n",
       "street_address                      object\n",
       "postal_code                         object\n",
       "city                                object\n",
       "country                             object\n",
       "registered_on          datetime64[ns, UTC]\n",
       "user_traffic_source                 object\n",
       "order_id                            object\n",
       "order_status                        object\n",
       "order_created_at       datetime64[ns, UTC]\n",
       "num_of_item                        float64\n",
       "revenue                            float64\n",
       "dtype: object"
      ]
     },
     "execution_count": 8,
     "metadata": {},
     "output_type": "execute_result"
    }
   ],
   "source": [
    "# the id columns need to be object\n",
    "df[['user_id', 'order_id']] = df[['user_id', 'order_id']].astype(object)\n",
    "df.dtypes"
   ]
  },
  {
   "cell_type": "code",
   "execution_count": 9,
   "id": "6f1d0eae",
   "metadata": {},
   "outputs": [
    {
     "name": "stdout",
     "output_type": "stream",
     "text": [
      "age\n",
      "[25 41 30 52 50 60 44 57 69 53 47 12 54 14 32 38 62 17 65 68 22 27 58 18\n",
      " 36 26 59 29 61 35 64 42 28 34 66 55 39 20 24 21 16 40 19 70 15 67 43 56\n",
      " 31 48 23 33 45 13 37 51 46 49 63]\n",
      "gender\n",
      "['M' 'F']\n",
      "state\n",
      "['Andalucía' 'Aragón' 'Auvergne-Rhône-Alpes' 'Baden-Württemberg' 'Bayern'\n",
      " 'Berlin' 'Bourgogne-Franche-Comté' 'Brandenburg' 'Bremen' 'Bretagne'\n",
      " 'Brussels' 'Canarias' 'Cantabria' 'Castilla y León' 'Castilla-La Mancha'\n",
      " 'Cataluña' 'Centre-Val de Loire' 'Ceuta' 'Comunidad Valenciana'\n",
      " 'Comunidad de Madrid' 'Corse' 'Dolnośląskie' 'England' 'Extremadura'\n",
      " 'Flanders' 'Galicia' 'Grand Est' 'Hamburg' 'Hauts-de-France' 'Hessen'\n",
      " 'Islas Baleares' 'La Rioja' 'Lubuskie' 'Mecklenburg-Vorpommern' 'Melilla'\n",
      " 'Navarra' 'Niedersachsen' 'Nordrhein-Westfalen' 'Normandie'\n",
      " 'Northern Ireland' 'Nouvelle-Aquitaine' 'Occitanie' 'Pays de la Loire'\n",
      " 'País Vasco' 'Principado de Asturias' \"Provence-Alpes-Côte d'Azur\"\n",
      " 'Región de Murcia' 'Rheinland-Pfalz' 'Saarland' 'Sachsen'\n",
      " 'Sachsen-Anhalt' 'Schleswig-Holstein' 'Scotland' 'Thüringen' 'Vorarlberg'\n",
      " 'Wales' 'Wallonia' 'Zachodniopomorskie' 'Île-de-France']\n",
      "country\n",
      "['Spain' 'France' 'Germany' 'Belgium' 'Poland' 'United Kingdom' 'España'\n",
      " 'Austria']\n",
      "user_traffic_source\n",
      "['Search' 'Organic' 'Facebook' 'Email' 'Display']\n",
      "order_status\n",
      "[nan 'Cancelled' 'Processing' 'Complete' 'Shipped' 'Returned']\n",
      "num_of_item\n",
      "[nan  1.  2.  4.  3.]\n"
     ]
    }
   ],
   "source": [
    "for_unique_check = ['age', 'gender', 'state', 'country',\n",
    "                    'user_traffic_source', 'order_status', 'num_of_item']\n",
    "\n",
    "for col in for_unique_check:\n",
    "    print(col)\n",
    "    print(df[col].unique())"
   ]
  },
  {
   "cell_type": "code",
   "execution_count": 10,
   "id": "f4e9a5d3",
   "metadata": {},
   "outputs": [],
   "source": [
    "# clean country: 'España' -> 'Spain'\n",
    "df['country'].replace('España', 'Spain', inplace=True)"
   ]
  },
  {
   "cell_type": "code",
   "execution_count": 11,
   "id": "7fe17c92",
   "metadata": {},
   "outputs": [
    {
     "data": {
      "text/plain": [
       "user_id                   0\n",
       "first_name                0\n",
       "last_name                 0\n",
       "age                       0\n",
       "gender                    0\n",
       "state                     0\n",
       "street_address            0\n",
       "postal_code               0\n",
       "city                     77\n",
       "country                   0\n",
       "registered_on             0\n",
       "user_traffic_source       0\n",
       "order_id               3897\n",
       "order_status           3897\n",
       "order_created_at       3897\n",
       "num_of_item            3897\n",
       "revenue                3897\n",
       "dtype: int64"
      ]
     },
     "execution_count": 11,
     "metadata": {},
     "output_type": "execute_result"
    }
   ],
   "source": [
    "df.isnull().sum()"
   ]
  },
  {
   "cell_type": "markdown",
   "id": "6486b90a",
   "metadata": {},
   "source": [
    "There are missing values in the city column. \n",
    "Further, 3897 users haven't ordered on the platform yet. This information (rows) can be useful later on for creating prediction models. Therefore, I will split the df into two parts: one containing users with orders, and the other with users that haven't made an order yet."
   ]
  },
  {
   "cell_type": "code",
   "execution_count": 12,
   "id": "2ebee7b0",
   "metadata": {},
   "outputs": [
    {
     "data": {
      "text/plain": [
       "postal_code  country\n",
       "30835        Spain      12\n",
       "50059        Spain       9\n",
       "15174        Spain       7\n",
       "28946        Spain       7\n",
       "41130        Spain       7\n",
       "50016        Spain       6\n",
       "29140        Spain       6\n",
       "33129        Germany     5\n",
       "50197        Spain       5\n",
       "38300        Spain       3\n",
       "28947        Spain       2\n",
       "46988        Spain       2\n",
       "25191        Spain       1\n",
       "38434        Spain       1\n",
       "28909        Spain       1\n",
       "28524        Spain       1\n",
       "50191        Spain       1\n",
       "38297        Spain       1\n",
       "Name: count, dtype: int64"
      ]
     },
     "execution_count": 12,
     "metadata": {},
     "output_type": "execute_result"
    }
   ],
   "source": [
    "#Let's have a look at the nans in the city column\n",
    "df[df['city'].isna()][['postal_code','country']].value_counts()"
   ]
  },
  {
   "cell_type": "markdown",
   "id": "f11c884a",
   "metadata": {},
   "source": [
    "Either could webscrap the postal codes or just drop the rows.\n",
    "I will look up the Germany postal code and fill the city manually."
   ]
  },
  {
   "cell_type": "code",
   "execution_count": 13,
   "id": "a517292b",
   "metadata": {},
   "outputs": [],
   "source": [
    "missing_city_ger = {'33129': \"Delbrück\"}\n",
    "df['city'] = df['city'].fillna(df['postal_code'].map(missing_city_ger))"
   ]
  },
  {
   "cell_type": "code",
   "execution_count": 14,
   "id": "8358af04",
   "metadata": {},
   "outputs": [],
   "source": [
    "zipcode_nan_cities = df[df['city'].isna()]['postal_code'].drop_duplicates().tolist()"
   ]
  },
  {
   "cell_type": "code",
   "execution_count": 15,
   "id": "7dbdc8f8",
   "metadata": {},
   "outputs": [
    {
     "data": {
      "text/html": [
       "<div>\n",
       "<style scoped>\n",
       "    .dataframe tbody tr th:only-of-type {\n",
       "        vertical-align: middle;\n",
       "    }\n",
       "\n",
       "    .dataframe tbody tr th {\n",
       "        vertical-align: top;\n",
       "    }\n",
       "\n",
       "    .dataframe thead th {\n",
       "        text-align: right;\n",
       "    }\n",
       "</style>\n",
       "<table border=\"1\" class=\"dataframe\">\n",
       "  <thead>\n",
       "    <tr style=\"text-align: right;\">\n",
       "      <th></th>\n",
       "      <th>user_id</th>\n",
       "      <th>first_name</th>\n",
       "      <th>last_name</th>\n",
       "      <th>age</th>\n",
       "      <th>gender</th>\n",
       "      <th>state</th>\n",
       "      <th>street_address</th>\n",
       "      <th>postal_code</th>\n",
       "      <th>city</th>\n",
       "      <th>country</th>\n",
       "      <th>registered_on</th>\n",
       "      <th>user_traffic_source</th>\n",
       "      <th>order_id</th>\n",
       "      <th>order_status</th>\n",
       "      <th>order_created_at</th>\n",
       "      <th>num_of_item</th>\n",
       "      <th>revenue</th>\n",
       "    </tr>\n",
       "  </thead>\n",
       "  <tbody>\n",
       "  </tbody>\n",
       "</table>\n",
       "</div>"
      ],
      "text/plain": [
       "Empty DataFrame\n",
       "Columns: [user_id, first_name, last_name, age, gender, state, street_address, postal_code, city, country, registered_on, user_traffic_source, order_id, order_status, order_created_at, num_of_item, revenue]\n",
       "Index: []"
      ]
     },
     "execution_count": 15,
     "metadata": {},
     "output_type": "execute_result"
    }
   ],
   "source": [
    "#checking if there is an entry with these postal codes\n",
    "df[(df['postal_code'].isin(zipcode_nan_cities)) & (df['city'].notna()) & (df['country'] == \"Spain\")]"
   ]
  },
  {
   "cell_type": "code",
   "execution_count": 16,
   "id": "70d55070",
   "metadata": {
    "scrolled": true
   },
   "outputs": [
    {
     "data": {
      "text/html": [
       "<div>\n",
       "<style scoped>\n",
       "    .dataframe tbody tr th:only-of-type {\n",
       "        vertical-align: middle;\n",
       "    }\n",
       "\n",
       "    .dataframe tbody tr th {\n",
       "        vertical-align: top;\n",
       "    }\n",
       "\n",
       "    .dataframe thead th {\n",
       "        text-align: right;\n",
       "    }\n",
       "</style>\n",
       "<table border=\"1\" class=\"dataframe\">\n",
       "  <thead>\n",
       "    <tr style=\"text-align: right;\">\n",
       "      <th></th>\n",
       "      <th>user_id</th>\n",
       "      <th>first_name</th>\n",
       "      <th>last_name</th>\n",
       "      <th>age</th>\n",
       "      <th>gender</th>\n",
       "      <th>state</th>\n",
       "      <th>street_address</th>\n",
       "      <th>postal_code</th>\n",
       "      <th>city</th>\n",
       "      <th>country</th>\n",
       "      <th>registered_on</th>\n",
       "      <th>user_traffic_source</th>\n",
       "      <th>order_id</th>\n",
       "      <th>order_status</th>\n",
       "      <th>order_created_at</th>\n",
       "      <th>num_of_item</th>\n",
       "      <th>revenue</th>\n",
       "    </tr>\n",
       "  </thead>\n",
       "  <tbody>\n",
       "    <tr>\n",
       "      <th>15833</th>\n",
       "      <td>5251</td>\n",
       "      <td>Heather</td>\n",
       "      <td>Martinez</td>\n",
       "      <td>33</td>\n",
       "      <td>F</td>\n",
       "      <td>Galicia</td>\n",
       "      <td>15864 Amber Port</td>\n",
       "      <td>15174</td>\n",
       "      <td>NaN</td>\n",
       "      <td>Spain</td>\n",
       "      <td>2021-04-07 18:59:00+00:00</td>\n",
       "      <td>Search</td>\n",
       "      <td>6474.0</td>\n",
       "      <td>Cancelled</td>\n",
       "      <td>2022-07-23 18:59:00+00:00</td>\n",
       "      <td>1.0</td>\n",
       "      <td>131.740003</td>\n",
       "    </tr>\n",
       "    <tr>\n",
       "      <th>15834</th>\n",
       "      <td>5251</td>\n",
       "      <td>Heather</td>\n",
       "      <td>Martinez</td>\n",
       "      <td>33</td>\n",
       "      <td>F</td>\n",
       "      <td>Galicia</td>\n",
       "      <td>15864 Amber Port</td>\n",
       "      <td>15174</td>\n",
       "      <td>NaN</td>\n",
       "      <td>Spain</td>\n",
       "      <td>2021-04-07 18:59:00+00:00</td>\n",
       "      <td>Search</td>\n",
       "      <td>6473.0</td>\n",
       "      <td>Processing</td>\n",
       "      <td>2023-05-25 18:59:00+00:00</td>\n",
       "      <td>1.0</td>\n",
       "      <td>131.740003</td>\n",
       "    </tr>\n",
       "    <tr>\n",
       "      <th>15835</th>\n",
       "      <td>5251</td>\n",
       "      <td>Heather</td>\n",
       "      <td>Martinez</td>\n",
       "      <td>33</td>\n",
       "      <td>F</td>\n",
       "      <td>Galicia</td>\n",
       "      <td>15864 Amber Port</td>\n",
       "      <td>15174</td>\n",
       "      <td>NaN</td>\n",
       "      <td>Spain</td>\n",
       "      <td>2021-04-07 18:59:00+00:00</td>\n",
       "      <td>Search</td>\n",
       "      <td>6476.0</td>\n",
       "      <td>Returned</td>\n",
       "      <td>2022-10-17 18:59:00+00:00</td>\n",
       "      <td>1.0</td>\n",
       "      <td>131.740003</td>\n",
       "    </tr>\n",
       "    <tr>\n",
       "      <th>15836</th>\n",
       "      <td>5251</td>\n",
       "      <td>Heather</td>\n",
       "      <td>Martinez</td>\n",
       "      <td>33</td>\n",
       "      <td>F</td>\n",
       "      <td>Galicia</td>\n",
       "      <td>15864 Amber Port</td>\n",
       "      <td>15174</td>\n",
       "      <td>NaN</td>\n",
       "      <td>Spain</td>\n",
       "      <td>2021-04-07 18:59:00+00:00</td>\n",
       "      <td>Search</td>\n",
       "      <td>6475.0</td>\n",
       "      <td>Shipped</td>\n",
       "      <td>2021-05-22 18:59:00+00:00</td>\n",
       "      <td>1.0</td>\n",
       "      <td>131.740003</td>\n",
       "    </tr>\n",
       "  </tbody>\n",
       "</table>\n",
       "</div>"
      ],
      "text/plain": [
       "      user_id first_name last_name  age gender    state    street_address  \\\n",
       "15833    5251    Heather  Martinez   33      F  Galicia  15864 Amber Port   \n",
       "15834    5251    Heather  Martinez   33      F  Galicia  15864 Amber Port   \n",
       "15835    5251    Heather  Martinez   33      F  Galicia  15864 Amber Port   \n",
       "15836    5251    Heather  Martinez   33      F  Galicia  15864 Amber Port   \n",
       "\n",
       "      postal_code city country             registered_on user_traffic_source  \\\n",
       "15833       15174  NaN   Spain 2021-04-07 18:59:00+00:00              Search   \n",
       "15834       15174  NaN   Spain 2021-04-07 18:59:00+00:00              Search   \n",
       "15835       15174  NaN   Spain 2021-04-07 18:59:00+00:00              Search   \n",
       "15836       15174  NaN   Spain 2021-04-07 18:59:00+00:00              Search   \n",
       "\n",
       "      order_id order_status          order_created_at  num_of_item     revenue  \n",
       "15833   6474.0    Cancelled 2022-07-23 18:59:00+00:00          1.0  131.740003  \n",
       "15834   6473.0   Processing 2023-05-25 18:59:00+00:00          1.0  131.740003  \n",
       "15835   6476.0     Returned 2022-10-17 18:59:00+00:00          1.0  131.740003  \n",
       "15836   6475.0      Shipped 2021-05-22 18:59:00+00:00          1.0  131.740003  "
      ]
     },
     "execution_count": 16,
     "metadata": {},
     "output_type": "execute_result"
    }
   ],
   "source": [
    "df[(df['user_id']==5251)]"
   ]
  },
  {
   "cell_type": "code",
   "execution_count": 17,
   "id": "dc58f3c5",
   "metadata": {},
   "outputs": [],
   "source": [
    "df = df.dropna(subset=['city'])"
   ]
  },
  {
   "cell_type": "markdown",
   "id": "8ffa7479",
   "metadata": {},
   "source": [
    "Either could webscrap the postal codes or just drop the rows."
   ]
  },
  {
   "cell_type": "code",
   "execution_count": 18,
   "id": "5dcadc20",
   "metadata": {},
   "outputs": [
    {
     "data": {
      "text/plain": [
       "(27662, 17)"
      ]
     },
     "execution_count": 18,
     "metadata": {},
     "output_type": "execute_result"
    }
   ],
   "source": [
    "df.shape"
   ]
  },
  {
   "cell_type": "code",
   "execution_count": 19,
   "id": "f8f50976",
   "metadata": {},
   "outputs": [
    {
     "data": {
      "text/plain": [
       "0"
      ]
     },
     "execution_count": 19,
     "metadata": {},
     "output_type": "execute_result"
    }
   ],
   "source": [
    "#look for duplicate data\n",
    "df.duplicated().sum()"
   ]
  },
  {
   "cell_type": "code",
   "execution_count": 20,
   "id": "dafb5a54",
   "metadata": {},
   "outputs": [
    {
     "data": {
      "text/html": [
       "<div>\n",
       "<style scoped>\n",
       "    .dataframe tbody tr th:only-of-type {\n",
       "        vertical-align: middle;\n",
       "    }\n",
       "\n",
       "    .dataframe tbody tr th {\n",
       "        vertical-align: top;\n",
       "    }\n",
       "\n",
       "    .dataframe thead th {\n",
       "        text-align: right;\n",
       "    }\n",
       "</style>\n",
       "<table border=\"1\" class=\"dataframe\">\n",
       "  <thead>\n",
       "    <tr style=\"text-align: right;\">\n",
       "      <th></th>\n",
       "      <th>registered_on</th>\n",
       "      <th>days_since_registration</th>\n",
       "    </tr>\n",
       "  </thead>\n",
       "  <tbody>\n",
       "    <tr>\n",
       "      <th>0</th>\n",
       "      <td>2019-08-04 17:10:00+00:00</td>\n",
       "      <td>1638</td>\n",
       "    </tr>\n",
       "    <tr>\n",
       "      <th>1</th>\n",
       "      <td>2023-02-16 00:23:00+00:00</td>\n",
       "      <td>347</td>\n",
       "    </tr>\n",
       "    <tr>\n",
       "      <th>2</th>\n",
       "      <td>2021-10-30 06:51:00+00:00</td>\n",
       "      <td>821</td>\n",
       "    </tr>\n",
       "    <tr>\n",
       "      <th>3</th>\n",
       "      <td>2020-03-31 17:12:00+00:00</td>\n",
       "      <td>1398</td>\n",
       "    </tr>\n",
       "    <tr>\n",
       "      <th>4</th>\n",
       "      <td>2020-03-31 17:12:00+00:00</td>\n",
       "      <td>1398</td>\n",
       "    </tr>\n",
       "  </tbody>\n",
       "</table>\n",
       "</div>"
      ],
      "text/plain": [
       "              registered_on  days_since_registration\n",
       "0 2019-08-04 17:10:00+00:00                     1638\n",
       "1 2023-02-16 00:23:00+00:00                      347\n",
       "2 2021-10-30 06:51:00+00:00                      821\n",
       "3 2020-03-31 17:12:00+00:00                     1398\n",
       "4 2020-03-31 17:12:00+00:00                     1398"
      ]
     },
     "execution_count": 20,
     "metadata": {},
     "output_type": "execute_result"
    }
   ],
   "source": [
    "# let's define since when the users are registered (in days)\n",
    "reference_date = datetime.utcnow().replace(tzinfo=timezone.utc)\n",
    "df['days_since_registration'] = (reference_date - df['registered_on']).dt.days\n",
    "df[['registered_on','days_since_registration']].head()"
   ]
  },
  {
   "cell_type": "code",
   "execution_count": 21,
   "id": "81e836f7",
   "metadata": {},
   "outputs": [
    {
     "name": "stdout",
     "output_type": "stream",
     "text": [
      "Number of min orders: 0\n",
      "Number of max orders: 4\n"
     ]
    }
   ],
   "source": [
    "# investigating the data set and the user order behaviour\n",
    "pivot_table = pd.pivot_table(df, index='user_id', values='order_id', aggfunc='count', fill_value=0)\n",
    "\n",
    "# Display the pivot table to inspect the number of orders by user\n",
    "\n",
    "min_orders_value = pivot_table.min()['order_id']\n",
    "max_orders_value = pivot_table.max()['order_id']\n",
    "\n",
    "print(f\"Number of min orders: {min_orders_value}\")\n",
    "print(f\"Number of max orders: {max_orders_value}\")"
   ]
  },
  {
   "cell_type": "code",
   "execution_count": 22,
   "id": "67519f2d",
   "metadata": {},
   "outputs": [
    {
     "data": {
      "text/plain": [
       "Index(['user_id', 'first_name', 'last_name', 'age', 'gender', 'state',\n",
       "       'street_address', 'postal_code', 'city', 'country', 'registered_on',\n",
       "       'user_traffic_source', 'order_id', 'order_status', 'order_created_at',\n",
       "       'num_of_item', 'revenue', 'days_since_registration'],\n",
       "      dtype='object')"
      ]
     },
     "execution_count": 22,
     "metadata": {},
     "output_type": "execute_result"
    }
   ],
   "source": [
    "df.columns"
   ]
  },
  {
   "cell_type": "code",
   "execution_count": 23,
   "id": "eee2d560",
   "metadata": {},
   "outputs": [],
   "source": [
    "# split data set in users with orders and users without orders\n",
    "# prediction if order will be returned\n",
    "# when user is ordering\n",
    "# calculate rfm"
   ]
  },
  {
   "cell_type": "code",
   "execution_count": 24,
   "id": "ee9b137e",
   "metadata": {},
   "outputs": [
    {
     "data": {
      "text/plain": [
       "19104"
      ]
     },
     "execution_count": 24,
     "metadata": {},
     "output_type": "execute_result"
    }
   ],
   "source": [
    "df['user_id'].nunique()"
   ]
  },
  {
   "cell_type": "code",
   "execution_count": 25,
   "id": "64438352",
   "metadata": {},
   "outputs": [],
   "source": [
    "# Creating a Customer centered DataFrame\n",
    "customer_df = df.groupby(['user_id', 'registered_on', 'age', 'gender', 'city', 'country']).agg({\n",
    "    'order_created_at': ['min', 'max'],  # Min and Max for recency\n",
    "    'order_id': 'nunique',                # Number of orders for frequency\n",
    "    'num_of_item': 'mean',                # Average number of items of order\n",
    "    'revenue': ['sum', 'mean']            # Total revenue of orders (CLV) and average revenugre\n",
    "}).reset_index()\n",
    "\n",
    "# Calculating the average days between orders\n",
    "#customer_df['avg_days_between_orders'] = (customer_df['order_created_at']['max'] - customer_df['order_created_at']['min']).dt.total_seconds() / customer_df['order_id']['nunique'] / (60 * 60 * 24)\n",
    "\n",
    "customer_df.columns = ['user_id', 'registration_date', 'age', 'gender', 'city',\n",
    "                       'country', 'first_order_date', 'last_order_date', \n",
    "                       'total_orders', 'avg_order_items', 'total_revenue', 'avg_order_value']"
   ]
  },
  {
   "cell_type": "code",
   "execution_count": 26,
   "id": "2aeef816",
   "metadata": {},
   "outputs": [
    {
     "data": {
      "text/html": [
       "<div>\n",
       "<style scoped>\n",
       "    .dataframe tbody tr th:only-of-type {\n",
       "        vertical-align: middle;\n",
       "    }\n",
       "\n",
       "    .dataframe tbody tr th {\n",
       "        vertical-align: top;\n",
       "    }\n",
       "\n",
       "    .dataframe thead th {\n",
       "        text-align: right;\n",
       "    }\n",
       "</style>\n",
       "<table border=\"1\" class=\"dataframe\">\n",
       "  <thead>\n",
       "    <tr style=\"text-align: right;\">\n",
       "      <th></th>\n",
       "      <th>user_id</th>\n",
       "      <th>registration_date</th>\n",
       "      <th>age</th>\n",
       "      <th>gender</th>\n",
       "      <th>city</th>\n",
       "      <th>country</th>\n",
       "      <th>first_order_date</th>\n",
       "      <th>last_order_date</th>\n",
       "      <th>total_orders</th>\n",
       "      <th>avg_order_items</th>\n",
       "      <th>total_revenue</th>\n",
       "      <th>avg_order_value</th>\n",
       "      <th>avg_days_between_orders</th>\n",
       "    </tr>\n",
       "  </thead>\n",
       "  <tbody>\n",
       "    <tr>\n",
       "      <th>0</th>\n",
       "      <td>18</td>\n",
       "      <td>2020-06-18 10:15:00+00:00</td>\n",
       "      <td>31</td>\n",
       "      <td>M</td>\n",
       "      <td>Schwedt/Oder</td>\n",
       "      <td>Poland</td>\n",
       "      <td>2021-05-26 10:15:00+00:00</td>\n",
       "      <td>2021-05-26 10:15:00+00:00</td>\n",
       "      <td>1</td>\n",
       "      <td>1.0</td>\n",
       "      <td>46.990002</td>\n",
       "      <td>46.990002</td>\n",
       "      <td>NaN</td>\n",
       "    </tr>\n",
       "    <tr>\n",
       "      <th>1</th>\n",
       "      <td>20</td>\n",
       "      <td>2020-12-20 03:57:00+00:00</td>\n",
       "      <td>57</td>\n",
       "      <td>M</td>\n",
       "      <td>Castalla</td>\n",
       "      <td>Spain</td>\n",
       "      <td>NaT</td>\n",
       "      <td>NaT</td>\n",
       "      <td>0</td>\n",
       "      <td>NaN</td>\n",
       "      <td>0.000000</td>\n",
       "      <td>NaN</td>\n",
       "      <td>NaN</td>\n",
       "    </tr>\n",
       "    <tr>\n",
       "      <th>2</th>\n",
       "      <td>29</td>\n",
       "      <td>2023-09-22 07:18:00+00:00</td>\n",
       "      <td>23</td>\n",
       "      <td>M</td>\n",
       "      <td>Pudsey</td>\n",
       "      <td>United Kingdom</td>\n",
       "      <td>2023-11-29 07:18:00+00:00</td>\n",
       "      <td>2023-11-29 07:18:00+00:00</td>\n",
       "      <td>1</td>\n",
       "      <td>2.0</td>\n",
       "      <td>65.680000</td>\n",
       "      <td>65.680000</td>\n",
       "      <td>NaN</td>\n",
       "    </tr>\n",
       "    <tr>\n",
       "      <th>3</th>\n",
       "      <td>30</td>\n",
       "      <td>2020-02-18 07:06:00+00:00</td>\n",
       "      <td>36</td>\n",
       "      <td>F</td>\n",
       "      <td>Fréjus</td>\n",
       "      <td>France</td>\n",
       "      <td>NaT</td>\n",
       "      <td>NaT</td>\n",
       "      <td>0</td>\n",
       "      <td>NaN</td>\n",
       "      <td>0.000000</td>\n",
       "      <td>NaN</td>\n",
       "      <td>NaN</td>\n",
       "    </tr>\n",
       "    <tr>\n",
       "      <th>4</th>\n",
       "      <td>33</td>\n",
       "      <td>2019-02-14 17:19:00+00:00</td>\n",
       "      <td>12</td>\n",
       "      <td>M</td>\n",
       "      <td>Bogatynia</td>\n",
       "      <td>Poland</td>\n",
       "      <td>2020-06-02 17:19:00+00:00</td>\n",
       "      <td>2020-06-11 17:19:00+00:00</td>\n",
       "      <td>2</td>\n",
       "      <td>1.0</td>\n",
       "      <td>73.959999</td>\n",
       "      <td>36.980000</td>\n",
       "      <td>9.0</td>\n",
       "    </tr>\n",
       "    <tr>\n",
       "      <th>...</th>\n",
       "      <td>...</td>\n",
       "      <td>...</td>\n",
       "      <td>...</td>\n",
       "      <td>...</td>\n",
       "      <td>...</td>\n",
       "      <td>...</td>\n",
       "      <td>...</td>\n",
       "      <td>...</td>\n",
       "      <td>...</td>\n",
       "      <td>...</td>\n",
       "      <td>...</td>\n",
       "      <td>...</td>\n",
       "      <td>...</td>\n",
       "    </tr>\n",
       "    <tr>\n",
       "      <th>19099</th>\n",
       "      <td>99980</td>\n",
       "      <td>2023-06-03 09:55:00+00:00</td>\n",
       "      <td>23</td>\n",
       "      <td>F</td>\n",
       "      <td>Boussu</td>\n",
       "      <td>Belgium</td>\n",
       "      <td>NaT</td>\n",
       "      <td>NaT</td>\n",
       "      <td>0</td>\n",
       "      <td>NaN</td>\n",
       "      <td>0.000000</td>\n",
       "      <td>NaN</td>\n",
       "      <td>NaN</td>\n",
       "    </tr>\n",
       "    <tr>\n",
       "      <th>19100</th>\n",
       "      <td>99982</td>\n",
       "      <td>2020-02-02 12:23:00+00:00</td>\n",
       "      <td>62</td>\n",
       "      <td>F</td>\n",
       "      <td>Madrid</td>\n",
       "      <td>Spain</td>\n",
       "      <td>2020-06-18 12:23:00+00:00</td>\n",
       "      <td>2022-01-03 12:23:00+00:00</td>\n",
       "      <td>2</td>\n",
       "      <td>1.0</td>\n",
       "      <td>383.900002</td>\n",
       "      <td>191.950001</td>\n",
       "      <td>564.0</td>\n",
       "    </tr>\n",
       "    <tr>\n",
       "      <th>19101</th>\n",
       "      <td>99989</td>\n",
       "      <td>2019-12-26 18:26:00+00:00</td>\n",
       "      <td>34</td>\n",
       "      <td>M</td>\n",
       "      <td>Badajoz</td>\n",
       "      <td>Spain</td>\n",
       "      <td>2020-01-03 18:26:00+00:00</td>\n",
       "      <td>2020-01-03 18:26:00+00:00</td>\n",
       "      <td>1</td>\n",
       "      <td>1.0</td>\n",
       "      <td>17.799999</td>\n",
       "      <td>17.799999</td>\n",
       "      <td>NaN</td>\n",
       "    </tr>\n",
       "    <tr>\n",
       "      <th>19102</th>\n",
       "      <td>99997</td>\n",
       "      <td>2023-07-21 12:30:00+00:00</td>\n",
       "      <td>48</td>\n",
       "      <td>M</td>\n",
       "      <td>Malle</td>\n",
       "      <td>Belgium</td>\n",
       "      <td>2023-10-29 12:30:00+00:00</td>\n",
       "      <td>2023-10-29 12:30:00+00:00</td>\n",
       "      <td>1</td>\n",
       "      <td>1.0</td>\n",
       "      <td>12.950000</td>\n",
       "      <td>12.950000</td>\n",
       "      <td>NaN</td>\n",
       "    </tr>\n",
       "    <tr>\n",
       "      <th>19103</th>\n",
       "      <td>99999</td>\n",
       "      <td>2023-10-27 16:52:00+00:00</td>\n",
       "      <td>61</td>\n",
       "      <td>M</td>\n",
       "      <td>Gorzów Wielkopolski</td>\n",
       "      <td>Poland</td>\n",
       "      <td>2023-12-21 16:52:00+00:00</td>\n",
       "      <td>2023-12-26 16:52:00+00:00</td>\n",
       "      <td>2</td>\n",
       "      <td>1.0</td>\n",
       "      <td>96.000000</td>\n",
       "      <td>48.000000</td>\n",
       "      <td>5.0</td>\n",
       "    </tr>\n",
       "  </tbody>\n",
       "</table>\n",
       "<p>19104 rows × 13 columns</p>\n",
       "</div>"
      ],
      "text/plain": [
       "       user_id         registration_date  age gender                 city  \\\n",
       "0           18 2020-06-18 10:15:00+00:00   31      M         Schwedt/Oder   \n",
       "1           20 2020-12-20 03:57:00+00:00   57      M             Castalla   \n",
       "2           29 2023-09-22 07:18:00+00:00   23      M               Pudsey   \n",
       "3           30 2020-02-18 07:06:00+00:00   36      F               Fréjus   \n",
       "4           33 2019-02-14 17:19:00+00:00   12      M            Bogatynia   \n",
       "...        ...                       ...  ...    ...                  ...   \n",
       "19099    99980 2023-06-03 09:55:00+00:00   23      F               Boussu   \n",
       "19100    99982 2020-02-02 12:23:00+00:00   62      F               Madrid   \n",
       "19101    99989 2019-12-26 18:26:00+00:00   34      M              Badajoz   \n",
       "19102    99997 2023-07-21 12:30:00+00:00   48      M                Malle   \n",
       "19103    99999 2023-10-27 16:52:00+00:00   61      M  Gorzów Wielkopolski   \n",
       "\n",
       "              country          first_order_date           last_order_date  \\\n",
       "0              Poland 2021-05-26 10:15:00+00:00 2021-05-26 10:15:00+00:00   \n",
       "1               Spain                       NaT                       NaT   \n",
       "2      United Kingdom 2023-11-29 07:18:00+00:00 2023-11-29 07:18:00+00:00   \n",
       "3              France                       NaT                       NaT   \n",
       "4              Poland 2020-06-02 17:19:00+00:00 2020-06-11 17:19:00+00:00   \n",
       "...               ...                       ...                       ...   \n",
       "19099         Belgium                       NaT                       NaT   \n",
       "19100           Spain 2020-06-18 12:23:00+00:00 2022-01-03 12:23:00+00:00   \n",
       "19101           Spain 2020-01-03 18:26:00+00:00 2020-01-03 18:26:00+00:00   \n",
       "19102         Belgium 2023-10-29 12:30:00+00:00 2023-10-29 12:30:00+00:00   \n",
       "19103          Poland 2023-12-21 16:52:00+00:00 2023-12-26 16:52:00+00:00   \n",
       "\n",
       "       total_orders  avg_order_items  total_revenue  avg_order_value  \\\n",
       "0                 1              1.0      46.990002        46.990002   \n",
       "1                 0              NaN       0.000000              NaN   \n",
       "2                 1              2.0      65.680000        65.680000   \n",
       "3                 0              NaN       0.000000              NaN   \n",
       "4                 2              1.0      73.959999        36.980000   \n",
       "...             ...              ...            ...              ...   \n",
       "19099             0              NaN       0.000000              NaN   \n",
       "19100             2              1.0     383.900002       191.950001   \n",
       "19101             1              1.0      17.799999        17.799999   \n",
       "19102             1              1.0      12.950000        12.950000   \n",
       "19103             2              1.0      96.000000        48.000000   \n",
       "\n",
       "       avg_days_between_orders  \n",
       "0                          NaN  \n",
       "1                          NaN  \n",
       "2                          NaN  \n",
       "3                          NaN  \n",
       "4                          9.0  \n",
       "...                        ...  \n",
       "19099                      NaN  \n",
       "19100                    564.0  \n",
       "19101                      NaN  \n",
       "19102                      NaN  \n",
       "19103                      5.0  \n",
       "\n",
       "[19104 rows x 13 columns]"
      ]
     },
     "execution_count": 26,
     "metadata": {},
     "output_type": "execute_result"
    }
   ],
   "source": [
    "# Sorting orders by user and order date\n",
    "df_sorted = df.sort_values(['user_id', 'order_created_at'])\n",
    "\n",
    "# Calculate the time difference between consecutive orders\n",
    "df_sorted['time_diff'] = df_sorted.groupby('user_id')['order_created_at'].diff()\n",
    "\n",
    "# Calculate the average days between orders for each customer\n",
    "avg_days_between_orders = df_sorted.groupby('user_id')['time_diff'].mean().dt.days\n",
    "avg_days_between_orders\n",
    "# Merge the average days between orders into the customer_df DataFrame\n",
    "customer_df = pd.merge(customer_df, avg_days_between_orders, left_on='user_id', right_index=True, how='left')\n",
    "\n",
    "# Rename the column\n",
    "customer_df = customer_df.rename(columns={'time_diff': 'avg_days_between_orders'})\n",
    "\n",
    "customer_df"
   ]
  },
  {
   "cell_type": "code",
   "execution_count": 27,
   "id": "e4e541cd",
   "metadata": {},
   "outputs": [
    {
     "data": {
      "text/html": [
       "<div>\n",
       "<style scoped>\n",
       "    .dataframe tbody tr th:only-of-type {\n",
       "        vertical-align: middle;\n",
       "    }\n",
       "\n",
       "    .dataframe tbody tr th {\n",
       "        vertical-align: top;\n",
       "    }\n",
       "\n",
       "    .dataframe thead th {\n",
       "        text-align: right;\n",
       "    }\n",
       "</style>\n",
       "<table border=\"1\" class=\"dataframe\">\n",
       "  <thead>\n",
       "    <tr style=\"text-align: right;\">\n",
       "      <th></th>\n",
       "      <th>user_id</th>\n",
       "      <th>registration_date</th>\n",
       "      <th>age</th>\n",
       "      <th>gender</th>\n",
       "      <th>city</th>\n",
       "      <th>country</th>\n",
       "      <th>first_order_date</th>\n",
       "      <th>last_order_date</th>\n",
       "      <th>total_orders</th>\n",
       "      <th>avg_order_items</th>\n",
       "      <th>total_revenue</th>\n",
       "      <th>avg_order_value</th>\n",
       "      <th>avg_days_between_orders</th>\n",
       "    </tr>\n",
       "  </thead>\n",
       "  <tbody>\n",
       "    <tr>\n",
       "      <th>0</th>\n",
       "      <td>18</td>\n",
       "      <td>2020-06-18 10:15:00+00:00</td>\n",
       "      <td>31</td>\n",
       "      <td>M</td>\n",
       "      <td>Schwedt/Oder</td>\n",
       "      <td>Poland</td>\n",
       "      <td>2021-05-26 10:15:00+00:00</td>\n",
       "      <td>2021-05-26 10:15:00+00:00</td>\n",
       "      <td>1</td>\n",
       "      <td>1.0</td>\n",
       "      <td>46.990002</td>\n",
       "      <td>46.990002</td>\n",
       "      <td>NaN</td>\n",
       "    </tr>\n",
       "    <tr>\n",
       "      <th>2</th>\n",
       "      <td>29</td>\n",
       "      <td>2023-09-22 07:18:00+00:00</td>\n",
       "      <td>23</td>\n",
       "      <td>M</td>\n",
       "      <td>Pudsey</td>\n",
       "      <td>United Kingdom</td>\n",
       "      <td>2023-11-29 07:18:00+00:00</td>\n",
       "      <td>2023-11-29 07:18:00+00:00</td>\n",
       "      <td>1</td>\n",
       "      <td>2.0</td>\n",
       "      <td>65.680000</td>\n",
       "      <td>65.680000</td>\n",
       "      <td>NaN</td>\n",
       "    </tr>\n",
       "    <tr>\n",
       "      <th>4</th>\n",
       "      <td>33</td>\n",
       "      <td>2019-02-14 17:19:00+00:00</td>\n",
       "      <td>12</td>\n",
       "      <td>M</td>\n",
       "      <td>Bogatynia</td>\n",
       "      <td>Poland</td>\n",
       "      <td>2020-06-02 17:19:00+00:00</td>\n",
       "      <td>2020-06-11 17:19:00+00:00</td>\n",
       "      <td>2</td>\n",
       "      <td>1.0</td>\n",
       "      <td>73.959999</td>\n",
       "      <td>36.980000</td>\n",
       "      <td>9.0</td>\n",
       "    </tr>\n",
       "    <tr>\n",
       "      <th>6</th>\n",
       "      <td>49</td>\n",
       "      <td>2023-04-11 02:46:00+00:00</td>\n",
       "      <td>62</td>\n",
       "      <td>M</td>\n",
       "      <td>Bailleul</td>\n",
       "      <td>France</td>\n",
       "      <td>2023-08-20 02:46:00+00:00</td>\n",
       "      <td>2023-08-20 02:46:00+00:00</td>\n",
       "      <td>1</td>\n",
       "      <td>1.0</td>\n",
       "      <td>65.000000</td>\n",
       "      <td>65.000000</td>\n",
       "      <td>NaN</td>\n",
       "    </tr>\n",
       "    <tr>\n",
       "      <th>7</th>\n",
       "      <td>50</td>\n",
       "      <td>2023-05-01 13:46:00+00:00</td>\n",
       "      <td>15</td>\n",
       "      <td>F</td>\n",
       "      <td>Linares</td>\n",
       "      <td>Spain</td>\n",
       "      <td>2023-07-10 13:46:00+00:00</td>\n",
       "      <td>2023-09-27 13:46:00+00:00</td>\n",
       "      <td>2</td>\n",
       "      <td>1.5</td>\n",
       "      <td>512.740005</td>\n",
       "      <td>256.370003</td>\n",
       "      <td>79.0</td>\n",
       "    </tr>\n",
       "    <tr>\n",
       "      <th>...</th>\n",
       "      <td>...</td>\n",
       "      <td>...</td>\n",
       "      <td>...</td>\n",
       "      <td>...</td>\n",
       "      <td>...</td>\n",
       "      <td>...</td>\n",
       "      <td>...</td>\n",
       "      <td>...</td>\n",
       "      <td>...</td>\n",
       "      <td>...</td>\n",
       "      <td>...</td>\n",
       "      <td>...</td>\n",
       "      <td>...</td>\n",
       "    </tr>\n",
       "    <tr>\n",
       "      <th>19096</th>\n",
       "      <td>99962</td>\n",
       "      <td>2020-10-10 15:32:00+00:00</td>\n",
       "      <td>49</td>\n",
       "      <td>F</td>\n",
       "      <td>Torremolinos</td>\n",
       "      <td>Spain</td>\n",
       "      <td>2022-07-23 15:32:00+00:00</td>\n",
       "      <td>2023-01-21 15:32:00+00:00</td>\n",
       "      <td>3</td>\n",
       "      <td>1.0</td>\n",
       "      <td>347.940004</td>\n",
       "      <td>115.980001</td>\n",
       "      <td>91.0</td>\n",
       "    </tr>\n",
       "    <tr>\n",
       "      <th>19100</th>\n",
       "      <td>99982</td>\n",
       "      <td>2020-02-02 12:23:00+00:00</td>\n",
       "      <td>62</td>\n",
       "      <td>F</td>\n",
       "      <td>Madrid</td>\n",
       "      <td>Spain</td>\n",
       "      <td>2020-06-18 12:23:00+00:00</td>\n",
       "      <td>2022-01-03 12:23:00+00:00</td>\n",
       "      <td>2</td>\n",
       "      <td>1.0</td>\n",
       "      <td>383.900002</td>\n",
       "      <td>191.950001</td>\n",
       "      <td>564.0</td>\n",
       "    </tr>\n",
       "    <tr>\n",
       "      <th>19101</th>\n",
       "      <td>99989</td>\n",
       "      <td>2019-12-26 18:26:00+00:00</td>\n",
       "      <td>34</td>\n",
       "      <td>M</td>\n",
       "      <td>Badajoz</td>\n",
       "      <td>Spain</td>\n",
       "      <td>2020-01-03 18:26:00+00:00</td>\n",
       "      <td>2020-01-03 18:26:00+00:00</td>\n",
       "      <td>1</td>\n",
       "      <td>1.0</td>\n",
       "      <td>17.799999</td>\n",
       "      <td>17.799999</td>\n",
       "      <td>NaN</td>\n",
       "    </tr>\n",
       "    <tr>\n",
       "      <th>19102</th>\n",
       "      <td>99997</td>\n",
       "      <td>2023-07-21 12:30:00+00:00</td>\n",
       "      <td>48</td>\n",
       "      <td>M</td>\n",
       "      <td>Malle</td>\n",
       "      <td>Belgium</td>\n",
       "      <td>2023-10-29 12:30:00+00:00</td>\n",
       "      <td>2023-10-29 12:30:00+00:00</td>\n",
       "      <td>1</td>\n",
       "      <td>1.0</td>\n",
       "      <td>12.950000</td>\n",
       "      <td>12.950000</td>\n",
       "      <td>NaN</td>\n",
       "    </tr>\n",
       "    <tr>\n",
       "      <th>19103</th>\n",
       "      <td>99999</td>\n",
       "      <td>2023-10-27 16:52:00+00:00</td>\n",
       "      <td>61</td>\n",
       "      <td>M</td>\n",
       "      <td>Gorzów Wielkopolski</td>\n",
       "      <td>Poland</td>\n",
       "      <td>2023-12-21 16:52:00+00:00</td>\n",
       "      <td>2023-12-26 16:52:00+00:00</td>\n",
       "      <td>2</td>\n",
       "      <td>1.0</td>\n",
       "      <td>96.000000</td>\n",
       "      <td>48.000000</td>\n",
       "      <td>5.0</td>\n",
       "    </tr>\n",
       "  </tbody>\n",
       "</table>\n",
       "<p>15224 rows × 13 columns</p>\n",
       "</div>"
      ],
      "text/plain": [
       "       user_id         registration_date  age gender                 city  \\\n",
       "0           18 2020-06-18 10:15:00+00:00   31      M         Schwedt/Oder   \n",
       "2           29 2023-09-22 07:18:00+00:00   23      M               Pudsey   \n",
       "4           33 2019-02-14 17:19:00+00:00   12      M            Bogatynia   \n",
       "6           49 2023-04-11 02:46:00+00:00   62      M             Bailleul   \n",
       "7           50 2023-05-01 13:46:00+00:00   15      F              Linares   \n",
       "...        ...                       ...  ...    ...                  ...   \n",
       "19096    99962 2020-10-10 15:32:00+00:00   49      F         Torremolinos   \n",
       "19100    99982 2020-02-02 12:23:00+00:00   62      F               Madrid   \n",
       "19101    99989 2019-12-26 18:26:00+00:00   34      M              Badajoz   \n",
       "19102    99997 2023-07-21 12:30:00+00:00   48      M                Malle   \n",
       "19103    99999 2023-10-27 16:52:00+00:00   61      M  Gorzów Wielkopolski   \n",
       "\n",
       "              country          first_order_date           last_order_date  \\\n",
       "0              Poland 2021-05-26 10:15:00+00:00 2021-05-26 10:15:00+00:00   \n",
       "2      United Kingdom 2023-11-29 07:18:00+00:00 2023-11-29 07:18:00+00:00   \n",
       "4              Poland 2020-06-02 17:19:00+00:00 2020-06-11 17:19:00+00:00   \n",
       "6              France 2023-08-20 02:46:00+00:00 2023-08-20 02:46:00+00:00   \n",
       "7               Spain 2023-07-10 13:46:00+00:00 2023-09-27 13:46:00+00:00   \n",
       "...               ...                       ...                       ...   \n",
       "19096           Spain 2022-07-23 15:32:00+00:00 2023-01-21 15:32:00+00:00   \n",
       "19100           Spain 2020-06-18 12:23:00+00:00 2022-01-03 12:23:00+00:00   \n",
       "19101           Spain 2020-01-03 18:26:00+00:00 2020-01-03 18:26:00+00:00   \n",
       "19102         Belgium 2023-10-29 12:30:00+00:00 2023-10-29 12:30:00+00:00   \n",
       "19103          Poland 2023-12-21 16:52:00+00:00 2023-12-26 16:52:00+00:00   \n",
       "\n",
       "       total_orders  avg_order_items  total_revenue  avg_order_value  \\\n",
       "0                 1              1.0      46.990002        46.990002   \n",
       "2                 1              2.0      65.680000        65.680000   \n",
       "4                 2              1.0      73.959999        36.980000   \n",
       "6                 1              1.0      65.000000        65.000000   \n",
       "7                 2              1.5     512.740005       256.370003   \n",
       "...             ...              ...            ...              ...   \n",
       "19096             3              1.0     347.940004       115.980001   \n",
       "19100             2              1.0     383.900002       191.950001   \n",
       "19101             1              1.0      17.799999        17.799999   \n",
       "19102             1              1.0      12.950000        12.950000   \n",
       "19103             2              1.0      96.000000        48.000000   \n",
       "\n",
       "       avg_days_between_orders  \n",
       "0                          NaN  \n",
       "2                          NaN  \n",
       "4                          9.0  \n",
       "6                          NaN  \n",
       "7                         79.0  \n",
       "...                        ...  \n",
       "19096                     91.0  \n",
       "19100                    564.0  \n",
       "19101                      NaN  \n",
       "19102                      NaN  \n",
       "19103                      5.0  \n",
       "\n",
       "[15224 rows x 13 columns]"
      ]
     },
     "execution_count": 27,
     "metadata": {},
     "output_type": "execute_result"
    }
   ],
   "source": [
    "customer_df[customer_df['first_order_date'] <= reference_date]"
   ]
  },
  {
   "cell_type": "code",
   "execution_count": 28,
   "id": "ec8f07f5",
   "metadata": {},
   "outputs": [
    {
     "name": "stderr",
     "output_type": "stream",
     "text": [
      "/var/folders/xv/sbmlp5m11vlc8qbxx5xp1lfw0000gp/T/ipykernel_10938/4229618325.py:8: SettingWithCopyWarning: \n",
      "A value is trying to be set on a copy of a slice from a DataFrame.\n",
      "Try using .loc[row_indexer,col_indexer] = value instead\n",
      "\n",
      "See the caveats in the documentation: https://pandas.pydata.org/pandas-docs/stable/user_guide/indexing.html#returning-a-view-versus-a-copy\n",
      "  customer_df_filtered['order_frequency_per_year'] = customer_df['total_orders'] / (reference_date - customer_df['first_order_date']).dt.total_seconds() / (60 * 60 * 24 * 30 *12)\n",
      "/var/folders/xv/sbmlp5m11vlc8qbxx5xp1lfw0000gp/T/ipykernel_10938/4229618325.py:9: SettingWithCopyWarning: \n",
      "A value is trying to be set on a copy of a slice from a DataFrame.\n",
      "Try using .loc[row_indexer,col_indexer] = value instead\n",
      "\n",
      "See the caveats in the documentation: https://pandas.pydata.org/pandas-docs/stable/user_guide/indexing.html#returning-a-view-versus-a-copy\n",
      "  customer_df_filtered['days_since_first_order'] = (reference_date - customer_df['first_order_date']).dt.total_seconds() / (60 * 60 * 24)\n",
      "/var/folders/xv/sbmlp5m11vlc8qbxx5xp1lfw0000gp/T/ipykernel_10938/4229618325.py:10: SettingWithCopyWarning: \n",
      "A value is trying to be set on a copy of a slice from a DataFrame.\n",
      "Try using .loc[row_indexer,col_indexer] = value instead\n",
      "\n",
      "See the caveats in the documentation: https://pandas.pydata.org/pandas-docs/stable/user_guide/indexing.html#returning-a-view-versus-a-copy\n",
      "  customer_df_filtered['days_since_last_order'] = (reference_date - customer_df['last_order_date']).dt.total_seconds() / (60 * 60 * 24)\n",
      "/var/folders/xv/sbmlp5m11vlc8qbxx5xp1lfw0000gp/T/ipykernel_10938/4229618325.py:11: SettingWithCopyWarning: \n",
      "A value is trying to be set on a copy of a slice from a DataFrame.\n",
      "Try using .loc[row_indexer,col_indexer] = value instead\n",
      "\n",
      "See the caveats in the documentation: https://pandas.pydata.org/pandas-docs/stable/user_guide/indexing.html#returning-a-view-versus-a-copy\n",
      "  customer_df_filtered['days_since_registration'] = (reference_date - customer_df['registration_date']).dt.total_seconds() / (60 * 60 * 24)\n",
      "/var/folders/xv/sbmlp5m11vlc8qbxx5xp1lfw0000gp/T/ipykernel_10938/4229618325.py:12: SettingWithCopyWarning: \n",
      "A value is trying to be set on a copy of a slice from a DataFrame.\n",
      "Try using .loc[row_indexer,col_indexer] = value instead\n",
      "\n",
      "See the caveats in the documentation: https://pandas.pydata.org/pandas-docs/stable/user_guide/indexing.html#returning-a-view-versus-a-copy\n",
      "  customer_df_filtered['days_until_first_order'] = (customer_df['first_order_date'] - customer_df['registration_date']).dt.total_seconds() / (60 * 60 * 24)\n",
      "/var/folders/xv/sbmlp5m11vlc8qbxx5xp1lfw0000gp/T/ipykernel_10938/4229618325.py:15: SettingWithCopyWarning: \n",
      "A value is trying to be set on a copy of a slice from a DataFrame.\n",
      "Try using .loc[row_indexer,col_indexer] = value instead\n",
      "\n",
      "See the caveats in the documentation: https://pandas.pydata.org/pandas-docs/stable/user_guide/indexing.html#returning-a-view-versus-a-copy\n",
      "  customer_df_filtered['has_ordered'] = customer_df['first_order_date'].apply(lambda x: 0 if pd.isna(x) else 1)\n"
     ]
    },
    {
     "data": {
      "text/html": [
       "<div>\n",
       "<style scoped>\n",
       "    .dataframe tbody tr th:only-of-type {\n",
       "        vertical-align: middle;\n",
       "    }\n",
       "\n",
       "    .dataframe tbody tr th {\n",
       "        vertical-align: top;\n",
       "    }\n",
       "\n",
       "    .dataframe thead th {\n",
       "        text-align: right;\n",
       "    }\n",
       "</style>\n",
       "<table border=\"1\" class=\"dataframe\">\n",
       "  <thead>\n",
       "    <tr style=\"text-align: right;\">\n",
       "      <th></th>\n",
       "      <th>user_id</th>\n",
       "      <th>registration_date</th>\n",
       "      <th>age</th>\n",
       "      <th>gender</th>\n",
       "      <th>city</th>\n",
       "      <th>country</th>\n",
       "      <th>first_order_date</th>\n",
       "      <th>last_order_date</th>\n",
       "      <th>total_orders</th>\n",
       "      <th>avg_order_items</th>\n",
       "      <th>total_revenue</th>\n",
       "      <th>avg_order_value</th>\n",
       "      <th>avg_days_between_orders</th>\n",
       "      <th>order_frequency_per_year</th>\n",
       "      <th>days_since_first_order</th>\n",
       "      <th>days_since_last_order</th>\n",
       "      <th>days_since_registration</th>\n",
       "      <th>days_until_first_order</th>\n",
       "      <th>has_ordered</th>\n",
       "    </tr>\n",
       "  </thead>\n",
       "  <tbody>\n",
       "    <tr>\n",
       "      <th>0</th>\n",
       "      <td>18</td>\n",
       "      <td>2020-06-18 10:15:00+00:00</td>\n",
       "      <td>31</td>\n",
       "      <td>M</td>\n",
       "      <td>Schwedt/Oder</td>\n",
       "      <td>Poland</td>\n",
       "      <td>2021-05-26 10:15:00+00:00</td>\n",
       "      <td>2021-05-26 10:15:00+00:00</td>\n",
       "      <td>1</td>\n",
       "      <td>1.0</td>\n",
       "      <td>46.990002</td>\n",
       "      <td>46.990002</td>\n",
       "      <td>NaN</td>\n",
       "      <td>3.922828e-16</td>\n",
       "      <td>948.572917</td>\n",
       "      <td>948.572917</td>\n",
       "      <td>1290.572917</td>\n",
       "      <td>342.0</td>\n",
       "      <td>1</td>\n",
       "    </tr>\n",
       "    <tr>\n",
       "      <th>2</th>\n",
       "      <td>29</td>\n",
       "      <td>2023-09-22 07:18:00+00:00</td>\n",
       "      <td>23</td>\n",
       "      <td>M</td>\n",
       "      <td>Pudsey</td>\n",
       "      <td>United Kingdom</td>\n",
       "      <td>2023-11-29 07:18:00+00:00</td>\n",
       "      <td>2023-11-29 07:18:00+00:00</td>\n",
       "      <td>1</td>\n",
       "      <td>2.0</td>\n",
       "      <td>65.680000</td>\n",
       "      <td>65.680000</td>\n",
       "      <td>NaN</td>\n",
       "      <td>1.173999e-14</td>\n",
       "      <td>31.695833</td>\n",
       "      <td>31.695833</td>\n",
       "      <td>99.695833</td>\n",
       "      <td>68.0</td>\n",
       "      <td>1</td>\n",
       "    </tr>\n",
       "    <tr>\n",
       "      <th>4</th>\n",
       "      <td>33</td>\n",
       "      <td>2019-02-14 17:19:00+00:00</td>\n",
       "      <td>12</td>\n",
       "      <td>M</td>\n",
       "      <td>Bogatynia</td>\n",
       "      <td>Poland</td>\n",
       "      <td>2020-06-02 17:19:00+00:00</td>\n",
       "      <td>2020-06-11 17:19:00+00:00</td>\n",
       "      <td>2</td>\n",
       "      <td>1.0</td>\n",
       "      <td>73.959999</td>\n",
       "      <td>36.980000</td>\n",
       "      <td>9.0</td>\n",
       "      <td>5.697236e-16</td>\n",
       "      <td>1306.278472</td>\n",
       "      <td>1297.278472</td>\n",
       "      <td>1780.278472</td>\n",
       "      <td>474.0</td>\n",
       "      <td>1</td>\n",
       "    </tr>\n",
       "    <tr>\n",
       "      <th>6</th>\n",
       "      <td>49</td>\n",
       "      <td>2023-04-11 02:46:00+00:00</td>\n",
       "      <td>62</td>\n",
       "      <td>M</td>\n",
       "      <td>Bailleul</td>\n",
       "      <td>France</td>\n",
       "      <td>2023-08-20 02:46:00+00:00</td>\n",
       "      <td>2023-08-20 02:46:00+00:00</td>\n",
       "      <td>1</td>\n",
       "      <td>1.0</td>\n",
       "      <td>65.000000</td>\n",
       "      <td>65.000000</td>\n",
       "      <td>NaN</td>\n",
       "      <td>2.800238e-15</td>\n",
       "      <td>132.884722</td>\n",
       "      <td>132.884722</td>\n",
       "      <td>263.884722</td>\n",
       "      <td>131.0</td>\n",
       "      <td>1</td>\n",
       "    </tr>\n",
       "    <tr>\n",
       "      <th>7</th>\n",
       "      <td>50</td>\n",
       "      <td>2023-05-01 13:46:00+00:00</td>\n",
       "      <td>15</td>\n",
       "      <td>F</td>\n",
       "      <td>Linares</td>\n",
       "      <td>Spain</td>\n",
       "      <td>2023-07-10 13:46:00+00:00</td>\n",
       "      <td>2023-09-27 13:46:00+00:00</td>\n",
       "      <td>2</td>\n",
       "      <td>1.5</td>\n",
       "      <td>512.740005</td>\n",
       "      <td>256.370003</td>\n",
       "      <td>79.0</td>\n",
       "      <td>4.291260e-15</td>\n",
       "      <td>173.426389</td>\n",
       "      <td>94.426389</td>\n",
       "      <td>243.426389</td>\n",
       "      <td>70.0</td>\n",
       "      <td>1</td>\n",
       "    </tr>\n",
       "  </tbody>\n",
       "</table>\n",
       "</div>"
      ],
      "text/plain": [
       "   user_id         registration_date  age gender          city  \\\n",
       "0       18 2020-06-18 10:15:00+00:00   31      M  Schwedt/Oder   \n",
       "2       29 2023-09-22 07:18:00+00:00   23      M        Pudsey   \n",
       "4       33 2019-02-14 17:19:00+00:00   12      M     Bogatynia   \n",
       "6       49 2023-04-11 02:46:00+00:00   62      M      Bailleul   \n",
       "7       50 2023-05-01 13:46:00+00:00   15      F       Linares   \n",
       "\n",
       "          country          first_order_date           last_order_date  \\\n",
       "0          Poland 2021-05-26 10:15:00+00:00 2021-05-26 10:15:00+00:00   \n",
       "2  United Kingdom 2023-11-29 07:18:00+00:00 2023-11-29 07:18:00+00:00   \n",
       "4          Poland 2020-06-02 17:19:00+00:00 2020-06-11 17:19:00+00:00   \n",
       "6          France 2023-08-20 02:46:00+00:00 2023-08-20 02:46:00+00:00   \n",
       "7           Spain 2023-07-10 13:46:00+00:00 2023-09-27 13:46:00+00:00   \n",
       "\n",
       "   total_orders  avg_order_items  total_revenue  avg_order_value  \\\n",
       "0             1              1.0      46.990002        46.990002   \n",
       "2             1              2.0      65.680000        65.680000   \n",
       "4             2              1.0      73.959999        36.980000   \n",
       "6             1              1.0      65.000000        65.000000   \n",
       "7             2              1.5     512.740005       256.370003   \n",
       "\n",
       "   avg_days_between_orders  order_frequency_per_year  days_since_first_order  \\\n",
       "0                      NaN              3.922828e-16              948.572917   \n",
       "2                      NaN              1.173999e-14               31.695833   \n",
       "4                      9.0              5.697236e-16             1306.278472   \n",
       "6                      NaN              2.800238e-15              132.884722   \n",
       "7                     79.0              4.291260e-15              173.426389   \n",
       "\n",
       "   days_since_last_order  days_since_registration  days_until_first_order  \\\n",
       "0             948.572917              1290.572917                   342.0   \n",
       "2              31.695833                99.695833                    68.0   \n",
       "4            1297.278472              1780.278472                   474.0   \n",
       "6             132.884722               263.884722                   131.0   \n",
       "7              94.426389               243.426389                    70.0   \n",
       "\n",
       "   has_ordered  \n",
       "0            1  \n",
       "2            1  \n",
       "4            1  \n",
       "6            1  \n",
       "7            1  "
      ]
     },
     "metadata": {},
     "output_type": "display_data"
    }
   ],
   "source": [
    "#lets focus on full years and plot the development\n",
    "reference_date = pd.to_datetime('2023-12-31', utc=True)\n",
    "\n",
    "#customer_df = customer_df[customer_df['registration_year'] != 2024]\n",
    "customer_df_filtered = customer_df[customer_df['last_order_date'] <= reference_date]\n",
    "\n",
    "\n",
    "customer_df_filtered['order_frequency_per_year'] = customer_df['total_orders'] / (reference_date - customer_df['first_order_date']).dt.total_seconds() / (60 * 60 * 24 * 30 *12)\n",
    "customer_df_filtered['days_since_first_order'] = (reference_date - customer_df['first_order_date']).dt.total_seconds() / (60 * 60 * 24)\n",
    "customer_df_filtered['days_since_last_order'] = (reference_date - customer_df['last_order_date']).dt.total_seconds() / (60 * 60 * 24)\n",
    "customer_df_filtered['days_since_registration'] = (reference_date - customer_df['registration_date']).dt.total_seconds() / (60 * 60 * 24)\n",
    "customer_df_filtered['days_until_first_order'] = (customer_df['first_order_date'] - customer_df['registration_date']).dt.total_seconds() / (60 * 60 * 24)\n",
    "\n",
    "# as mentioned before, there are users that haven't ordered yet\n",
    "customer_df_filtered['has_ordered'] = customer_df['first_order_date'].apply(lambda x: 0 if pd.isna(x) else 1)\n",
    "display(customer_df_filtered.head())"
   ]
  },
  {
   "cell_type": "code",
   "execution_count": 29,
   "id": "6274ed84",
   "metadata": {},
   "outputs": [
    {
     "data": {
      "text/html": [
       "<div>\n",
       "<style scoped>\n",
       "    .dataframe tbody tr th:only-of-type {\n",
       "        vertical-align: middle;\n",
       "    }\n",
       "\n",
       "    .dataframe tbody tr th {\n",
       "        vertical-align: top;\n",
       "    }\n",
       "\n",
       "    .dataframe thead th {\n",
       "        text-align: right;\n",
       "    }\n",
       "</style>\n",
       "<table border=\"1\" class=\"dataframe\">\n",
       "  <thead>\n",
       "    <tr style=\"text-align: right;\">\n",
       "      <th></th>\n",
       "      <th>user_id</th>\n",
       "      <th>registration_date</th>\n",
       "      <th>age</th>\n",
       "      <th>gender</th>\n",
       "      <th>city</th>\n",
       "      <th>country</th>\n",
       "      <th>first_order_date</th>\n",
       "      <th>last_order_date</th>\n",
       "      <th>total_orders</th>\n",
       "      <th>avg_order_items</th>\n",
       "      <th>total_revenue</th>\n",
       "      <th>avg_order_value</th>\n",
       "      <th>avg_days_between_orders</th>\n",
       "      <th>order_frequency_per_year</th>\n",
       "      <th>days_since_first_order</th>\n",
       "      <th>days_since_last_order</th>\n",
       "      <th>days_since_registration</th>\n",
       "      <th>days_until_first_order</th>\n",
       "      <th>has_ordered</th>\n",
       "    </tr>\n",
       "  </thead>\n",
       "  <tbody>\n",
       "  </tbody>\n",
       "</table>\n",
       "</div>"
      ],
      "text/plain": [
       "Empty DataFrame\n",
       "Columns: [user_id, registration_date, age, gender, city, country, first_order_date, last_order_date, total_orders, avg_order_items, total_revenue, avg_order_value, avg_days_between_orders, order_frequency_per_year, days_since_first_order, days_since_last_order, days_since_registration, days_until_first_order, has_ordered]\n",
       "Index: []"
      ]
     },
     "execution_count": 29,
     "metadata": {},
     "output_type": "execute_result"
    }
   ],
   "source": [
    "customer_df_filtered[customer_df_filtered['days_since_last_order']<0]"
   ]
  },
  {
   "cell_type": "code",
   "execution_count": 30,
   "id": "ecd45020",
   "metadata": {},
   "outputs": [],
   "source": [
    "customer_df = customer_df_filtered"
   ]
  },
  {
   "cell_type": "code",
   "execution_count": 31,
   "id": "771e11e6",
   "metadata": {},
   "outputs": [
    {
     "data": {
      "text/plain": [
       "user_id                                   int64\n",
       "registration_date           datetime64[ns, UTC]\n",
       "age                                       int64\n",
       "gender                                   object\n",
       "city                                     object\n",
       "country                                  object\n",
       "first_order_date            datetime64[ns, UTC]\n",
       "last_order_date             datetime64[ns, UTC]\n",
       "total_orders                              int64\n",
       "avg_order_items                         float64\n",
       "total_revenue                           float64\n",
       "avg_order_value                         float64\n",
       "avg_days_between_orders                 float64\n",
       "order_frequency_per_year                float64\n",
       "days_since_first_order                  float64\n",
       "days_since_last_order                   float64\n",
       "days_since_registration                 float64\n",
       "days_until_first_order                  float64\n",
       "has_ordered                               int64\n",
       "dtype: object"
      ]
     },
     "execution_count": 31,
     "metadata": {},
     "output_type": "execute_result"
    }
   ],
   "source": [
    "customer_df.dtypes"
   ]
  },
  {
   "cell_type": "code",
   "execution_count": 32,
   "id": "429e0215",
   "metadata": {},
   "outputs": [
    {
     "name": "stderr",
     "output_type": "stream",
     "text": [
      "/var/folders/xv/sbmlp5m11vlc8qbxx5xp1lfw0000gp/T/ipykernel_10938/3140444060.py:2: SettingWithCopyWarning: \n",
      "A value is trying to be set on a copy of a slice from a DataFrame.\n",
      "Try using .loc[row_indexer,col_indexer] = value instead\n",
      "\n",
      "See the caveats in the documentation: https://pandas.pydata.org/pandas-docs/stable/user_guide/indexing.html#returning-a-view-versus-a-copy\n",
      "  customer_df['user_id'] = customer_df['user_id'].astype(object)\n"
     ]
    }
   ],
   "source": [
    "# the id columns need to be object\n",
    "customer_df['user_id'] = customer_df['user_id'].astype(object)"
   ]
  },
  {
   "cell_type": "code",
   "execution_count": 33,
   "id": "cc7acae3",
   "metadata": {},
   "outputs": [
    {
     "name": "stdout",
     "output_type": "stream",
     "text": [
      "(13438, 19)\n"
     ]
    }
   ],
   "source": [
    "print(customer_df.shape)"
   ]
  },
  {
   "cell_type": "markdown",
   "id": "814ceb9b",
   "metadata": {},
   "source": [
    "## Exploratory Data Analysis"
   ]
  },
  {
   "cell_type": "code",
   "execution_count": 34,
   "id": "7591b3e9",
   "metadata": {},
   "outputs": [
    {
     "data": {
      "image/png": "[encoded data removed]",
      "text/plain": [
       "<Figure size 1200x600 with 1 Axes>"
      ]
     },
     "metadata": {},
     "output_type": "display_data"
    }
   ],
   "source": [
    "age_counts = customer_df['age'].value_counts()\n",
    "\n",
    "plt.figure(figsize=(12, 6))\n",
    "sns.barplot(x=age_counts.index, y=age_counts.values, color='skyblue')\n",
    "plt.title('Users by Age')\n",
    "plt.xlabel('Age')\n",
    "plt.ylabel('Count')\n",
    "plt.show()"
   ]
  },
  {
   "cell_type": "code",
   "execution_count": 35,
   "id": "2603c3ba",
   "metadata": {},
   "outputs": [
    {
     "name": "stderr",
     "output_type": "stream",
     "text": [
      "/var/folders/xv/sbmlp5m11vlc8qbxx5xp1lfw0000gp/T/ipykernel_10938/462151789.py:5: SettingWithCopyWarning: \n",
      "A value is trying to be set on a copy of a slice from a DataFrame.\n",
      "Try using .loc[row_indexer,col_indexer] = value instead\n",
      "\n",
      "See the caveats in the documentation: https://pandas.pydata.org/pandas-docs/stable/user_guide/indexing.html#returning-a-view-versus-a-copy\n",
      "  customer_df['age_class'] = pd.cut(customer_df['age'], bins=bins, labels=labels, right=False)\n"
     ]
    }
   ],
   "source": [
    "# Adding age groups:\n",
    "bins = [0, 18, 30, 40, 50, 60, 70, 120]\n",
    "labels = ['0-18', '19-30', '31-40', '41-50', '51-60', '61-70', '71+']\n",
    "\n",
    "customer_df['age_class'] = pd.cut(customer_df['age'], bins=bins, labels=labels, right=False)"
   ]
  },
  {
   "cell_type": "code",
   "execution_count": 36,
   "id": "1aac0285",
   "metadata": {},
   "outputs": [
    {
     "name": "stdout",
     "output_type": "stream",
     "text": [
      "age_class\n",
      "0-18     1367\n",
      "19-30    2741\n",
      "31-40    2232\n",
      "41-50    2263\n",
      "51-60    2269\n",
      "61-70    2341\n",
      "71+       225\n",
      "Name: count, dtype: int64\n"
     ]
    }
   ],
   "source": [
    "# Display the count of each age class\n",
    "age_class_counts = customer_df['age_class'].value_counts().sort_index()\n",
    "print(age_class_counts)"
   ]
  },
  {
   "cell_type": "code",
   "execution_count": 37,
   "id": "0e492358",
   "metadata": {},
   "outputs": [
    {
     "data": {
      "image/png": "[encoded data removed]",
      "text/plain": [
       "<Figure size 1200x600 with 1 Axes>"
      ]
     },
     "metadata": {},
     "output_type": "display_data"
    }
   ],
   "source": [
    "plt.figure(figsize=(12, 6))\n",
    "sns.countplot(customer_df, x='age_class')\n",
    "plt.title('Users by Age Class')\n",
    "plt.xlabel('Age')\n",
    "plt.ylabel('Count')\n",
    "plt.show()"
   ]
  },
  {
   "cell_type": "code",
   "execution_count": 38,
   "id": "5b457245",
   "metadata": {},
   "outputs": [
    {
     "name": "stdout",
     "output_type": "stream",
     "text": [
      "gender\n",
      "F    6727\n",
      "M    6711\n",
      "Name: count, dtype: int64\n"
     ]
    },
    {
     "data": {
      "image/png": "[encoded data removed]",
      "text/plain": [
       "<Figure size 640x480 with 2 Axes>"
      ]
     },
     "metadata": {},
     "output_type": "display_data"
    }
   ],
   "source": [
    "print(customer_df['gender'].value_counts())\n",
    "\n",
    "fig, ax = plt.subplots(1,2)\n",
    "sns.countplot(customer_df, x='gender', ax=ax[0]).set_title('Customers per Gender')\n",
    "sns.barplot(customer_df, x='gender', y='total_revenue', ax=ax[1]).set_title('Revenue per Gender')\n",
    "plt.show()"
   ]
  },
  {
   "cell_type": "code",
   "execution_count": 39,
   "id": "1554d941",
   "metadata": {},
   "outputs": [
    {
     "name": "stderr",
     "output_type": "stream",
     "text": [
      "/var/folders/xv/sbmlp5m11vlc8qbxx5xp1lfw0000gp/T/ipykernel_10938/599286830.py:1: SettingWithCopyWarning: \n",
      "A value is trying to be set on a copy of a slice from a DataFrame.\n",
      "Try using .loc[row_indexer,col_indexer] = value instead\n",
      "\n",
      "See the caveats in the documentation: https://pandas.pydata.org/pandas-docs/stable/user_guide/indexing.html#returning-a-view-versus-a-copy\n",
      "  customer_df['registration_year'] = customer_df['registration_date'].dt.year\n",
      "/var/folders/xv/sbmlp5m11vlc8qbxx5xp1lfw0000gp/T/ipykernel_10938/599286830.py:2: SettingWithCopyWarning: \n",
      "A value is trying to be set on a copy of a slice from a DataFrame.\n",
      "Try using .loc[row_indexer,col_indexer] = value instead\n",
      "\n",
      "See the caveats in the documentation: https://pandas.pydata.org/pandas-docs/stable/user_guide/indexing.html#returning-a-view-versus-a-copy\n",
      "  customer_df['registration_month'] = customer_df['registration_date'].dt.month\n"
     ]
    }
   ],
   "source": [
    "customer_df['registration_year'] = customer_df['registration_date'].dt.year\n",
    "customer_df['registration_month'] = customer_df['registration_date'].dt.month"
   ]
  },
  {
   "cell_type": "code",
   "execution_count": 40,
   "id": "c8b39beb",
   "metadata": {},
   "outputs": [
    {
     "name": "stdout",
     "output_type": "stream",
     "text": [
      "registration_year\n",
      "2020    2870\n",
      "2021    2852\n",
      "2019    2765\n",
      "2022    2721\n",
      "2023    2230\n",
      "Name: count, dtype: int64\n"
     ]
    }
   ],
   "source": [
    "print(customer_df['registration_year'].value_counts())"
   ]
  },
  {
   "cell_type": "code",
   "execution_count": 41,
   "id": "abbe99a8",
   "metadata": {},
   "outputs": [
    {
     "name": "stdout",
     "output_type": "stream",
     "text": [
      "registration_year\n",
      "2020    2870\n",
      "2021    2852\n",
      "2019    2765\n",
      "2022    2721\n",
      "2023    2230\n",
      "Name: count, dtype: int64\n"
     ]
    }
   ],
   "source": [
    "print(customer_df['registration_year'].value_counts())"
   ]
  },
  {
   "cell_type": "code",
   "execution_count": 42,
   "id": "efe9893d",
   "metadata": {},
   "outputs": [
    {
     "data": {
      "image/png": "[encoded data removed]",
      "text/plain": [
       "<Figure size 640x480 with 1 Axes>"
      ]
     },
     "metadata": {},
     "output_type": "display_data"
    }
   ],
   "source": [
    "sns.histplot(customer_df, x='registration_date')\n",
    "plt.title('Registration Date Distribution')\n",
    "plt.ylabel('Count')\n",
    "plt.show()"
   ]
  },
  {
   "cell_type": "code",
   "execution_count": 43,
   "id": "19251310",
   "metadata": {},
   "outputs": [
    {
     "name": "stdout",
     "output_type": "stream",
     "text": [
      "country\n",
      "France            3348\n",
      "United Kingdom    3317\n",
      "Germany           2958\n",
      "Spain             2764\n",
      "Belgium            871\n",
      "Poland             177\n",
      "Austria              3\n",
      "Name: count, dtype: int64\n"
     ]
    },
    {
     "data": {
      "image/png": "[encoded data removed]",
      "text/plain": [
       "<Figure size 1500x400 with 2 Axes>"
      ]
     },
     "metadata": {},
     "output_type": "display_data"
    }
   ],
   "source": [
    "print(customer_df['country'].value_counts())\n",
    "\n",
    "fig, ax = plt.subplots(1,2, figsize=(15,4))\n",
    "sns.countplot(customer_df, x='country', ax=ax[0]).set_title('Users by Country')\n",
    "sns.barplot(customer_df, x='country', y='total_revenue', ax=ax[1]).set_title('Revenue by Country')\n",
    "plt.tight_layout()\n",
    "plt.show()"
   ]
  },
  {
   "cell_type": "code",
   "execution_count": 44,
   "id": "76645c98",
   "metadata": {},
   "outputs": [
    {
     "name": "stderr",
     "output_type": "stream",
     "text": [
      "/Users/alinaaufenanger/anaconda3/lib/python3.11/site-packages/seaborn/axisgrid.py:118: UserWarning: The figure layout has changed to tight\n",
      "  self._figure.tight_layout(*args, **kwargs)\n"
     ]
    },
    {
     "data": {
      "image/png": "[encoded data removed]",
      "text/plain": [
       "<Figure size 1200x300 with 4 Axes>"
      ]
     },
     "metadata": {},
     "output_type": "display_data"
    }
   ],
   "source": [
    "g = sns.FacetGrid(customer_df, col='total_orders', col_wrap=4)\n",
    "g.map(sns.histplot, 'days_since_last_order')\n",
    "g.set_titles('{col_name}')\n",
    "plt.show()"
   ]
  },
  {
   "cell_type": "markdown",
   "id": "079380de",
   "metadata": {},
   "source": [
    "Combining Violinplots and Boxplots:\n",
    "\n",
    "Violin plots can be combined with boxplots to show both the summary statistics (boxplot) and the detailed distribution (violin plot) in the same visualization"
   ]
  },
  {
   "cell_type": "code",
   "execution_count": 45,
   "id": "bbaff013",
   "metadata": {},
   "outputs": [
    {
     "data": {
      "image/png": "[encoded data removed]",
      "text/plain": [
       "<Figure size 1500x400 with 2 Axes>"
      ]
     },
     "metadata": {},
     "output_type": "display_data"
    }
   ],
   "source": [
    "fig, ax = plt.subplots(1,2, figsize=(15,4))\n",
    "sns.boxplot(customer_df, x='days_since_last_order', ax=ax[0])\n",
    "sns.violinplot(customer_df, x='days_since_last_order', ax=ax[1])\n",
    "plt.show()"
   ]
  },
  {
   "cell_type": "code",
   "execution_count": 46,
   "id": "73138a90",
   "metadata": {},
   "outputs": [
    {
     "data": {
      "image/png": "[encoded data removed]",
      "text/plain": [
       "<Figure size 1500x400 with 2 Axes>"
      ]
     },
     "metadata": {},
     "output_type": "display_data"
    }
   ],
   "source": [
    "fig, ax = plt.subplots(1,2, figsize=(15,4))\n",
    "sns.boxplot(customer_df, x='days_since_last_order', y='country', ax=ax[0])\n",
    "sns.violinplot(customer_df, x='days_since_last_order', y='country', ax=ax[1])\n",
    "plt.show()"
   ]
  },
  {
   "cell_type": "code",
   "execution_count": 47,
   "id": "7229b817",
   "metadata": {},
   "outputs": [
    {
     "data": {
      "image/png": "[encoded data removed]",
      "text/plain": [
       "<Figure size 1500x400 with 2 Axes>"
      ]
     },
     "metadata": {},
     "output_type": "display_data"
    }
   ],
   "source": [
    "fig, ax = plt.subplots(1,2, figsize=(15,4))\n",
    "sns.boxplot(customer_df, x='days_since_last_order', y='gender', ax=ax[0])\n",
    "sns.violinplot(customer_df, x='days_since_last_order', y='gender', ax=ax[1])\n",
    "plt.show()"
   ]
  },
  {
   "cell_type": "code",
   "execution_count": 48,
   "id": "9bf5210e",
   "metadata": {},
   "outputs": [
    {
     "data": {
      "image/png": "[encoded data removed]",
      "text/plain": [
       "<Figure size 1500x400 with 2 Axes>"
      ]
     },
     "metadata": {},
     "output_type": "display_data"
    }
   ],
   "source": [
    "fig, ax = plt.subplots(1,2, figsize=(15,4))\n",
    "sns.boxplot(customer_df, x='days_since_last_order', y='age_class', ax=ax[0])\n",
    "sns.violinplot(customer_df, x='days_since_last_order', y='age_class', ax=ax[1])\n",
    "plt.show()"
   ]
  },
  {
   "cell_type": "code",
   "execution_count": 49,
   "id": "a062776b",
   "metadata": {},
   "outputs": [
    {
     "data": {
      "image/png": "[encoded data removed]",
      "text/plain": [
       "<Figure size 640x480 with 1 Axes>"
      ]
     },
     "metadata": {},
     "output_type": "display_data"
    }
   ],
   "source": [
    "fig, ax = figsize=(15,5)\n",
    "sns.histplot(customer_df, x='days_since_registration', hue='has_ordered').set_title('registered overview')\n",
    "plt.show()"
   ]
  },
  {
   "cell_type": "code",
   "execution_count": 50,
   "id": "544c07eb",
   "metadata": {},
   "outputs": [
    {
     "data": {
      "text/plain": [
       "Index(['user_id', 'registration_date', 'age', 'gender', 'city', 'country',\n",
       "       'first_order_date', 'last_order_date', 'total_orders',\n",
       "       'avg_order_items', 'total_revenue', 'avg_order_value',\n",
       "       'avg_days_between_orders', 'order_frequency_per_year',\n",
       "       'days_since_first_order', 'days_since_last_order',\n",
       "       'days_since_registration', 'days_until_first_order', 'has_ordered',\n",
       "       'age_class', 'registration_year', 'registration_month'],\n",
       "      dtype='object')"
      ]
     },
     "execution_count": 50,
     "metadata": {},
     "output_type": "execute_result"
    }
   ],
   "source": [
    "customer_df.columns"
   ]
  },
  {
   "cell_type": "markdown",
   "id": "817ef82a",
   "metadata": {},
   "source": [
    "## Outlier Analysis"
   ]
  },
  {
   "cell_type": "code",
   "execution_count": 51,
   "id": "0f55f24d",
   "metadata": {},
   "outputs": [
    {
     "data": {
      "image/png": "[encoded data removed]",
      "text/plain": [
       "<Figure size 1500x500 with 2 Axes>"
      ]
     },
     "metadata": {},
     "output_type": "display_data"
    }
   ],
   "source": [
    "fig, ax = plt.subplots(1,2, figsize=(15,5))\n",
    "sns.boxplot(customer_df, x='total_revenue', ax=ax[0])\n",
    "sns.histplot(customer_df, x='total_revenue', ax=ax[1])\n",
    "plt.show()"
   ]
  },
  {
   "cell_type": "code",
   "execution_count": 52,
   "id": "0767a030",
   "metadata": {},
   "outputs": [
    {
     "data": {
      "text/plain": [
       "<Axes: xlabel='total_revenue', ylabel='days_since_last_order'>"
      ]
     },
     "execution_count": 52,
     "metadata": {},
     "output_type": "execute_result"
    },
    {
     "data": {
      "image/png": "[encoded data removed]",
      "text/plain": [
       "<Figure size 640x480 with 1 Axes>"
      ]
     },
     "metadata": {},
     "output_type": "display_data"
    }
   ],
   "source": [
    "sns.scatterplot(customer_df, x='total_revenue', y='days_since_last_order')"
   ]
  },
  {
   "cell_type": "code",
   "execution_count": 53,
   "id": "50679251",
   "metadata": {},
   "outputs": [],
   "source": [
    "#drop customers with total_revenue > 4000\n",
    "customer_df = customer_df[customer_df['total_revenue'] <= 4000]"
   ]
  },
  {
   "cell_type": "code",
   "execution_count": 54,
   "id": "702eb60f",
   "metadata": {},
   "outputs": [
    {
     "data": {
      "image/png": "[encoded data removed]",
      "text/plain": [
       "<Figure size 1500x500 with 2 Axes>"
      ]
     },
     "metadata": {},
     "output_type": "display_data"
    }
   ],
   "source": [
    "fig, ax = plt.subplots(1,2, figsize=(15,5))\n",
    "sns.boxplot(customer_df, x='days_since_registration', ax=ax[0])\n",
    "sns.histplot(customer_df, x='days_since_registration', ax=ax[1])\n",
    "plt.show()"
   ]
  },
  {
   "cell_type": "code",
   "execution_count": 55,
   "id": "827a301c",
   "metadata": {},
   "outputs": [
    {
     "data": {
      "image/png": "[encoded data removed]",
      "text/plain": [
       "<Figure size 1500x500 with 2 Axes>"
      ]
     },
     "metadata": {},
     "output_type": "display_data"
    }
   ],
   "source": [
    "fig, ax = plt.subplots(1,2, figsize=(15,5))\n",
    "sns.boxplot(customer_df, x='days_since_last_order', ax=ax[0])\n",
    "sns.histplot(customer_df, x='days_since_last_order', ax=ax[1])\n",
    "plt.show()"
   ]
  },
  {
   "cell_type": "code",
   "execution_count": 56,
   "id": "7b149b7b",
   "metadata": {},
   "outputs": [
    {
     "data": {
      "image/png": "[encoded data removed]",
      "text/plain": [
       "<Figure size 1500x500 with 2 Axes>"
      ]
     },
     "metadata": {},
     "output_type": "display_data"
    }
   ],
   "source": [
    "fig, ax = plt.subplots(1,2, figsize=(15,5))\n",
    "sns.boxplot(customer_df, x='avg_order_value', ax=ax[0])\n",
    "sns.histplot(customer_df, x='avg_order_value', ax=ax[1])\n",
    "plt.show()"
   ]
  },
  {
   "cell_type": "code",
   "execution_count": 57,
   "id": "fa15673a",
   "metadata": {},
   "outputs": [
    {
     "name": "stdout",
     "output_type": "stream",
     "text": [
      "(13430, 21)\n",
      "user_id                                  object\n",
      "registration_date           datetime64[ns, UTC]\n",
      "age                                       int64\n",
      "gender                                   object\n",
      "city                                     object\n",
      "country                                  object\n",
      "first_order_date            datetime64[ns, UTC]\n",
      "last_order_date             datetime64[ns, UTC]\n",
      "total_orders                              int64\n",
      "avg_order_items                         float64\n",
      "total_revenue                           float64\n",
      "avg_order_value                         float64\n",
      "avg_days_between_orders                 float64\n",
      "order_frequency_per_year                float64\n",
      "days_since_first_order                  float64\n",
      "days_since_last_order                   float64\n",
      "days_since_registration                 float64\n",
      "days_until_first_order                  float64\n",
      "age_class                              category\n",
      "registration_year                         int32\n",
      "registration_month                        int32\n",
      "dtype: object\n",
      "user_id                        0\n",
      "registration_date              0\n",
      "age                            0\n",
      "gender                         0\n",
      "city                           0\n",
      "country                        0\n",
      "first_order_date               0\n",
      "last_order_date                0\n",
      "total_orders                   0\n",
      "avg_order_items                0\n",
      "total_revenue                  0\n",
      "avg_order_value                0\n",
      "avg_days_between_orders     8595\n",
      "order_frequency_per_year       0\n",
      "days_since_first_order         0\n",
      "days_since_last_order          0\n",
      "days_since_registration        0\n",
      "days_until_first_order         0\n",
      "age_class                      0\n",
      "registration_year              0\n",
      "registration_month             0\n",
      "dtype: int64\n"
     ]
    }
   ],
   "source": [
    "users_with_orders = customer_df[(customer_df['first_order_date'].notnull())]\n",
    "users_with_orders.drop(columns='has_ordered', inplace=True)\n",
    "print(users_with_orders.shape)\n",
    "print(users_with_orders.dtypes)\n",
    "print(users_with_orders.isnull().sum())"
   ]
  },
  {
   "cell_type": "code",
   "execution_count": 58,
   "id": "770d48b2",
   "metadata": {},
   "outputs": [
    {
     "data": {
      "text/plain": [
       "(0, 22)"
      ]
     },
     "execution_count": 58,
     "metadata": {},
     "output_type": "execute_result"
    }
   ],
   "source": [
    "users_wo_orders = customer_df[(customer_df['first_order_date'].isna())]\n",
    "users_wo_orders.shape"
   ]
  },
  {
   "cell_type": "code",
   "execution_count": 59,
   "id": "67d3ab55",
   "metadata": {},
   "outputs": [
    {
     "data": {
      "text/plain": [
       "user_id                     0.0\n",
       "registration_date           0.0\n",
       "age                         0.0\n",
       "gender                      0.0\n",
       "city                        0.0\n",
       "country                     0.0\n",
       "first_order_date            0.0\n",
       "last_order_date             0.0\n",
       "total_orders                0.0\n",
       "avg_order_items             0.0\n",
       "total_revenue               0.0\n",
       "avg_order_value             0.0\n",
       "avg_days_between_orders     0.0\n",
       "order_frequency_per_year    0.0\n",
       "days_since_first_order      0.0\n",
       "days_since_last_order       0.0\n",
       "days_since_registration     0.0\n",
       "days_until_first_order      0.0\n",
       "has_ordered                 0.0\n",
       "age_class                   0.0\n",
       "registration_year           0.0\n",
       "registration_month          0.0\n",
       "dtype: float64"
      ]
     },
     "execution_count": 59,
     "metadata": {},
     "output_type": "execute_result"
    }
   ],
   "source": [
    "users_wo_orders.isnull().sum()"
   ]
  },
  {
   "cell_type": "code",
   "execution_count": 60,
   "id": "b3f9f1ec",
   "metadata": {},
   "outputs": [
    {
     "name": "stderr",
     "output_type": "stream",
     "text": [
      "/var/folders/xv/sbmlp5m11vlc8qbxx5xp1lfw0000gp/T/ipykernel_10938/3636319674.py:1: SettingWithCopyWarning: \n",
      "A value is trying to be set on a copy of a slice from a DataFrame\n",
      "\n",
      "See the caveats in the documentation: https://pandas.pydata.org/pandas-docs/stable/user_guide/indexing.html#returning-a-view-versus-a-copy\n",
      "  users_wo_orders.dropna(axis=1, inplace=True)\n"
     ]
    },
    {
     "data": {
      "text/html": [
       "<div>\n",
       "<style scoped>\n",
       "    .dataframe tbody tr th:only-of-type {\n",
       "        vertical-align: middle;\n",
       "    }\n",
       "\n",
       "    .dataframe tbody tr th {\n",
       "        vertical-align: top;\n",
       "    }\n",
       "\n",
       "    .dataframe thead th {\n",
       "        text-align: right;\n",
       "    }\n",
       "</style>\n",
       "<table border=\"1\" class=\"dataframe\">\n",
       "  <thead>\n",
       "    <tr style=\"text-align: right;\">\n",
       "      <th></th>\n",
       "      <th>user_id</th>\n",
       "      <th>registration_date</th>\n",
       "      <th>age</th>\n",
       "      <th>gender</th>\n",
       "      <th>city</th>\n",
       "      <th>country</th>\n",
       "      <th>first_order_date</th>\n",
       "      <th>last_order_date</th>\n",
       "      <th>total_orders</th>\n",
       "      <th>avg_order_items</th>\n",
       "      <th>...</th>\n",
       "      <th>avg_days_between_orders</th>\n",
       "      <th>order_frequency_per_year</th>\n",
       "      <th>days_since_first_order</th>\n",
       "      <th>days_since_last_order</th>\n",
       "      <th>days_since_registration</th>\n",
       "      <th>days_until_first_order</th>\n",
       "      <th>has_ordered</th>\n",
       "      <th>age_class</th>\n",
       "      <th>registration_year</th>\n",
       "      <th>registration_month</th>\n",
       "    </tr>\n",
       "  </thead>\n",
       "  <tbody>\n",
       "  </tbody>\n",
       "</table>\n",
       "<p>0 rows × 22 columns</p>\n",
       "</div>"
      ],
      "text/plain": [
       "Empty DataFrame\n",
       "Columns: [user_id, registration_date, age, gender, city, country, first_order_date, last_order_date, total_orders, avg_order_items, total_revenue, avg_order_value, avg_days_between_orders, order_frequency_per_year, days_since_first_order, days_since_last_order, days_since_registration, days_until_first_order, has_ordered, age_class, registration_year, registration_month]\n",
       "Index: []\n",
       "\n",
       "[0 rows x 22 columns]"
      ]
     },
     "metadata": {},
     "output_type": "display_data"
    },
    {
     "data": {
      "text/plain": [
       "(0, 22)"
      ]
     },
     "execution_count": 60,
     "metadata": {},
     "output_type": "execute_result"
    }
   ],
   "source": [
    "users_wo_orders.dropna(axis=1, inplace=True)\n",
    "display(users_wo_orders.head())\n",
    "users_wo_orders.shape"
   ]
  },
  {
   "cell_type": "markdown",
   "id": "2ffe4504",
   "metadata": {},
   "source": [
    "## Feature Analysis"
   ]
  },
  {
   "cell_type": "code",
   "execution_count": 95,
   "id": "e131531d",
   "metadata": {},
   "outputs": [],
   "source": [
    "#drop customers with that haven't been active since 3 years\n",
    "users_with_orders = users_with_orders[users_with_orders['days_since_last_order'] <= (365*3)]"
   ]
  },
  {
   "cell_type": "code",
   "execution_count": 97,
   "id": "61782973",
   "metadata": {},
   "outputs": [
    {
     "data": {
      "text/html": [
       "<div>\n",
       "<style scoped>\n",
       "    .dataframe tbody tr th:only-of-type {\n",
       "        vertical-align: middle;\n",
       "    }\n",
       "\n",
       "    .dataframe tbody tr th {\n",
       "        vertical-align: top;\n",
       "    }\n",
       "\n",
       "    .dataframe thead th {\n",
       "        text-align: right;\n",
       "    }\n",
       "</style>\n",
       "<table border=\"1\" class=\"dataframe\">\n",
       "  <thead>\n",
       "    <tr style=\"text-align: right;\">\n",
       "      <th></th>\n",
       "      <th>user_id</th>\n",
       "      <th>registration_date</th>\n",
       "      <th>age</th>\n",
       "      <th>gender</th>\n",
       "      <th>city</th>\n",
       "      <th>country</th>\n",
       "      <th>first_order_date</th>\n",
       "      <th>last_order_date</th>\n",
       "      <th>total_orders</th>\n",
       "      <th>avg_order_items</th>\n",
       "      <th>...</th>\n",
       "      <th>avg_order_value</th>\n",
       "      <th>avg_days_between_orders</th>\n",
       "      <th>order_frequency_per_year</th>\n",
       "      <th>days_since_first_order</th>\n",
       "      <th>days_since_last_order</th>\n",
       "      <th>days_since_registration</th>\n",
       "      <th>days_until_first_order</th>\n",
       "      <th>age_class</th>\n",
       "      <th>registration_year</th>\n",
       "      <th>registration_month</th>\n",
       "    </tr>\n",
       "  </thead>\n",
       "  <tbody>\n",
       "    <tr>\n",
       "      <th>0</th>\n",
       "      <td>18</td>\n",
       "      <td>2020-06-18 10:15:00+00:00</td>\n",
       "      <td>31</td>\n",
       "      <td>M</td>\n",
       "      <td>Schwedt/Oder</td>\n",
       "      <td>Poland</td>\n",
       "      <td>2021-05-26 10:15:00+00:00</td>\n",
       "      <td>2021-05-26 10:15:00+00:00</td>\n",
       "      <td>1</td>\n",
       "      <td>1.0</td>\n",
       "      <td>...</td>\n",
       "      <td>46.990002</td>\n",
       "      <td>0.0</td>\n",
       "      <td>3.922828e-16</td>\n",
       "      <td>948.572917</td>\n",
       "      <td>948.572917</td>\n",
       "      <td>1290.572917</td>\n",
       "      <td>342.0</td>\n",
       "      <td>31-40</td>\n",
       "      <td>2020</td>\n",
       "      <td>6</td>\n",
       "    </tr>\n",
       "    <tr>\n",
       "      <th>2</th>\n",
       "      <td>29</td>\n",
       "      <td>2023-09-22 07:18:00+00:00</td>\n",
       "      <td>23</td>\n",
       "      <td>M</td>\n",
       "      <td>Pudsey</td>\n",
       "      <td>United Kingdom</td>\n",
       "      <td>2023-11-29 07:18:00+00:00</td>\n",
       "      <td>2023-11-29 07:18:00+00:00</td>\n",
       "      <td>1</td>\n",
       "      <td>2.0</td>\n",
       "      <td>...</td>\n",
       "      <td>65.680000</td>\n",
       "      <td>0.0</td>\n",
       "      <td>1.173999e-14</td>\n",
       "      <td>31.695833</td>\n",
       "      <td>31.695833</td>\n",
       "      <td>99.695833</td>\n",
       "      <td>68.0</td>\n",
       "      <td>19-30</td>\n",
       "      <td>2023</td>\n",
       "      <td>9</td>\n",
       "    </tr>\n",
       "    <tr>\n",
       "      <th>6</th>\n",
       "      <td>49</td>\n",
       "      <td>2023-04-11 02:46:00+00:00</td>\n",
       "      <td>62</td>\n",
       "      <td>M</td>\n",
       "      <td>Bailleul</td>\n",
       "      <td>France</td>\n",
       "      <td>2023-08-20 02:46:00+00:00</td>\n",
       "      <td>2023-08-20 02:46:00+00:00</td>\n",
       "      <td>1</td>\n",
       "      <td>1.0</td>\n",
       "      <td>...</td>\n",
       "      <td>65.000000</td>\n",
       "      <td>0.0</td>\n",
       "      <td>2.800238e-15</td>\n",
       "      <td>132.884722</td>\n",
       "      <td>132.884722</td>\n",
       "      <td>263.884722</td>\n",
       "      <td>131.0</td>\n",
       "      <td>61-70</td>\n",
       "      <td>2023</td>\n",
       "      <td>4</td>\n",
       "    </tr>\n",
       "    <tr>\n",
       "      <th>7</th>\n",
       "      <td>50</td>\n",
       "      <td>2023-05-01 13:46:00+00:00</td>\n",
       "      <td>15</td>\n",
       "      <td>F</td>\n",
       "      <td>Linares</td>\n",
       "      <td>Spain</td>\n",
       "      <td>2023-07-10 13:46:00+00:00</td>\n",
       "      <td>2023-09-27 13:46:00+00:00</td>\n",
       "      <td>2</td>\n",
       "      <td>1.5</td>\n",
       "      <td>...</td>\n",
       "      <td>256.370003</td>\n",
       "      <td>79.0</td>\n",
       "      <td>4.291260e-15</td>\n",
       "      <td>173.426389</td>\n",
       "      <td>94.426389</td>\n",
       "      <td>243.426389</td>\n",
       "      <td>70.0</td>\n",
       "      <td>0-18</td>\n",
       "      <td>2023</td>\n",
       "      <td>5</td>\n",
       "    </tr>\n",
       "    <tr>\n",
       "      <th>8</th>\n",
       "      <td>51</td>\n",
       "      <td>2019-07-11 00:19:00+00:00</td>\n",
       "      <td>66</td>\n",
       "      <td>M</td>\n",
       "      <td>Siegen</td>\n",
       "      <td>Germany</td>\n",
       "      <td>2021-08-15 00:19:00+00:00</td>\n",
       "      <td>2021-08-15 00:19:00+00:00</td>\n",
       "      <td>1</td>\n",
       "      <td>1.0</td>\n",
       "      <td>...</td>\n",
       "      <td>120.000000</td>\n",
       "      <td>0.0</td>\n",
       "      <td>4.287034e-16</td>\n",
       "      <td>867.986806</td>\n",
       "      <td>867.986806</td>\n",
       "      <td>1633.986806</td>\n",
       "      <td>766.0</td>\n",
       "      <td>61-70</td>\n",
       "      <td>2019</td>\n",
       "      <td>7</td>\n",
       "    </tr>\n",
       "  </tbody>\n",
       "</table>\n",
       "<p>5 rows × 21 columns</p>\n",
       "</div>"
      ],
      "text/plain": [
       "  user_id         registration_date  age gender          city         country  \\\n",
       "0      18 2020-06-18 10:15:00+00:00   31      M  Schwedt/Oder          Poland   \n",
       "2      29 2023-09-22 07:18:00+00:00   23      M        Pudsey  United Kingdom   \n",
       "6      49 2023-04-11 02:46:00+00:00   62      M      Bailleul          France   \n",
       "7      50 2023-05-01 13:46:00+00:00   15      F       Linares           Spain   \n",
       "8      51 2019-07-11 00:19:00+00:00   66      M        Siegen         Germany   \n",
       "\n",
       "           first_order_date           last_order_date  total_orders  \\\n",
       "0 2021-05-26 10:15:00+00:00 2021-05-26 10:15:00+00:00             1   \n",
       "2 2023-11-29 07:18:00+00:00 2023-11-29 07:18:00+00:00             1   \n",
       "6 2023-08-20 02:46:00+00:00 2023-08-20 02:46:00+00:00             1   \n",
       "7 2023-07-10 13:46:00+00:00 2023-09-27 13:46:00+00:00             2   \n",
       "8 2021-08-15 00:19:00+00:00 2021-08-15 00:19:00+00:00             1   \n",
       "\n",
       "   avg_order_items  ...  avg_order_value  avg_days_between_orders  \\\n",
       "0              1.0  ...        46.990002                      0.0   \n",
       "2              2.0  ...        65.680000                      0.0   \n",
       "6              1.0  ...        65.000000                      0.0   \n",
       "7              1.5  ...       256.370003                     79.0   \n",
       "8              1.0  ...       120.000000                      0.0   \n",
       "\n",
       "   order_frequency_per_year  days_since_first_order  days_since_last_order  \\\n",
       "0              3.922828e-16              948.572917             948.572917   \n",
       "2              1.173999e-14               31.695833              31.695833   \n",
       "6              2.800238e-15              132.884722             132.884722   \n",
       "7              4.291260e-15              173.426389              94.426389   \n",
       "8              4.287034e-16              867.986806             867.986806   \n",
       "\n",
       "   days_since_registration  days_until_first_order  age_class  \\\n",
       "0              1290.572917                   342.0      31-40   \n",
       "2                99.695833                    68.0      19-30   \n",
       "6               263.884722                   131.0      61-70   \n",
       "7               243.426389                    70.0       0-18   \n",
       "8              1633.986806                   766.0      61-70   \n",
       "\n",
       "  registration_year  registration_month  \n",
       "0              2020                   6  \n",
       "2              2023                   9  \n",
       "6              2023                   4  \n",
       "7              2023                   5  \n",
       "8              2019                   7  \n",
       "\n",
       "[5 rows x 21 columns]"
      ]
     },
     "execution_count": 97,
     "metadata": {},
     "output_type": "execute_result"
    }
   ],
   "source": [
    "users_with_orders['avg_days_between_orders'].fillna(0,inplace=True)\n",
    "users_with_orders.head()"
   ]
  },
  {
   "cell_type": "code",
   "execution_count": 98,
   "id": "0c23a42e",
   "metadata": {},
   "outputs": [],
   "source": [
    "users_wo_orders.head()\n",
    "#drop users that registered but still haven't been ordered after 3 years\n",
    "users_wo_orders = users_wo_orders[users_wo_orders['days_since_registration'] <= (365*3)]"
   ]
  },
  {
   "cell_type": "code",
   "execution_count": 99,
   "id": "7697e583",
   "metadata": {},
   "outputs": [
    {
     "data": {
      "text/html": [
       "<div>\n",
       "<style scoped>\n",
       "    .dataframe tbody tr th:only-of-type {\n",
       "        vertical-align: middle;\n",
       "    }\n",
       "\n",
       "    .dataframe tbody tr th {\n",
       "        vertical-align: top;\n",
       "    }\n",
       "\n",
       "    .dataframe thead th {\n",
       "        text-align: right;\n",
       "    }\n",
       "</style>\n",
       "<table border=\"1\" class=\"dataframe\">\n",
       "  <thead>\n",
       "    <tr style=\"text-align: right;\">\n",
       "      <th></th>\n",
       "      <th>index</th>\n",
       "      <th>user_id</th>\n",
       "      <th>registration_date</th>\n",
       "      <th>age</th>\n",
       "      <th>gender</th>\n",
       "      <th>city</th>\n",
       "      <th>country</th>\n",
       "      <th>total_orders</th>\n",
       "      <th>avg_order_items</th>\n",
       "      <th>total_revenue</th>\n",
       "      <th>...</th>\n",
       "      <th>avg_days_between_orders</th>\n",
       "      <th>order_frequency_per_year</th>\n",
       "      <th>days_since_first_order</th>\n",
       "      <th>days_since_last_order</th>\n",
       "      <th>days_since_registration</th>\n",
       "      <th>days_until_first_order</th>\n",
       "      <th>age_class</th>\n",
       "      <th>registration_year</th>\n",
       "      <th>registration_month</th>\n",
       "      <th>has_ordered</th>\n",
       "    </tr>\n",
       "  </thead>\n",
       "  <tbody>\n",
       "    <tr>\n",
       "      <th>0</th>\n",
       "      <td>0</td>\n",
       "      <td>18</td>\n",
       "      <td>2020-06-18 10:15:00+00:00</td>\n",
       "      <td>31</td>\n",
       "      <td>M</td>\n",
       "      <td>Schwedt/Oder</td>\n",
       "      <td>Poland</td>\n",
       "      <td>1</td>\n",
       "      <td>1.0</td>\n",
       "      <td>46.990002</td>\n",
       "      <td>...</td>\n",
       "      <td>0.0</td>\n",
       "      <td>3.922828e-16</td>\n",
       "      <td>948.572917</td>\n",
       "      <td>948.572917</td>\n",
       "      <td>1290.572917</td>\n",
       "      <td>342.0</td>\n",
       "      <td>31-40</td>\n",
       "      <td>2020</td>\n",
       "      <td>6</td>\n",
       "      <td>NaN</td>\n",
       "    </tr>\n",
       "    <tr>\n",
       "      <th>1</th>\n",
       "      <td>2</td>\n",
       "      <td>29</td>\n",
       "      <td>2023-09-22 07:18:00+00:00</td>\n",
       "      <td>23</td>\n",
       "      <td>M</td>\n",
       "      <td>Pudsey</td>\n",
       "      <td>United Kingdom</td>\n",
       "      <td>1</td>\n",
       "      <td>2.0</td>\n",
       "      <td>65.680000</td>\n",
       "      <td>...</td>\n",
       "      <td>0.0</td>\n",
       "      <td>1.173999e-14</td>\n",
       "      <td>31.695833</td>\n",
       "      <td>31.695833</td>\n",
       "      <td>99.695833</td>\n",
       "      <td>68.0</td>\n",
       "      <td>19-30</td>\n",
       "      <td>2023</td>\n",
       "      <td>9</td>\n",
       "      <td>NaN</td>\n",
       "    </tr>\n",
       "    <tr>\n",
       "      <th>2</th>\n",
       "      <td>6</td>\n",
       "      <td>49</td>\n",
       "      <td>2023-04-11 02:46:00+00:00</td>\n",
       "      <td>62</td>\n",
       "      <td>M</td>\n",
       "      <td>Bailleul</td>\n",
       "      <td>France</td>\n",
       "      <td>1</td>\n",
       "      <td>1.0</td>\n",
       "      <td>65.000000</td>\n",
       "      <td>...</td>\n",
       "      <td>0.0</td>\n",
       "      <td>2.800238e-15</td>\n",
       "      <td>132.884722</td>\n",
       "      <td>132.884722</td>\n",
       "      <td>263.884722</td>\n",
       "      <td>131.0</td>\n",
       "      <td>61-70</td>\n",
       "      <td>2023</td>\n",
       "      <td>4</td>\n",
       "      <td>NaN</td>\n",
       "    </tr>\n",
       "    <tr>\n",
       "      <th>3</th>\n",
       "      <td>7</td>\n",
       "      <td>50</td>\n",
       "      <td>2023-05-01 13:46:00+00:00</td>\n",
       "      <td>15</td>\n",
       "      <td>F</td>\n",
       "      <td>Linares</td>\n",
       "      <td>Spain</td>\n",
       "      <td>2</td>\n",
       "      <td>1.5</td>\n",
       "      <td>512.740005</td>\n",
       "      <td>...</td>\n",
       "      <td>79.0</td>\n",
       "      <td>4.291260e-15</td>\n",
       "      <td>173.426389</td>\n",
       "      <td>94.426389</td>\n",
       "      <td>243.426389</td>\n",
       "      <td>70.0</td>\n",
       "      <td>0-18</td>\n",
       "      <td>2023</td>\n",
       "      <td>5</td>\n",
       "      <td>NaN</td>\n",
       "    </tr>\n",
       "    <tr>\n",
       "      <th>4</th>\n",
       "      <td>8</td>\n",
       "      <td>51</td>\n",
       "      <td>2019-07-11 00:19:00+00:00</td>\n",
       "      <td>66</td>\n",
       "      <td>M</td>\n",
       "      <td>Siegen</td>\n",
       "      <td>Germany</td>\n",
       "      <td>1</td>\n",
       "      <td>1.0</td>\n",
       "      <td>120.000000</td>\n",
       "      <td>...</td>\n",
       "      <td>0.0</td>\n",
       "      <td>4.287034e-16</td>\n",
       "      <td>867.986806</td>\n",
       "      <td>867.986806</td>\n",
       "      <td>1633.986806</td>\n",
       "      <td>766.0</td>\n",
       "      <td>61-70</td>\n",
       "      <td>2019</td>\n",
       "      <td>7</td>\n",
       "      <td>NaN</td>\n",
       "    </tr>\n",
       "    <tr>\n",
       "      <th>...</th>\n",
       "      <td>...</td>\n",
       "      <td>...</td>\n",
       "      <td>...</td>\n",
       "      <td>...</td>\n",
       "      <td>...</td>\n",
       "      <td>...</td>\n",
       "      <td>...</td>\n",
       "      <td>...</td>\n",
       "      <td>...</td>\n",
       "      <td>...</td>\n",
       "      <td>...</td>\n",
       "      <td>...</td>\n",
       "      <td>...</td>\n",
       "      <td>...</td>\n",
       "      <td>...</td>\n",
       "      <td>...</td>\n",
       "      <td>...</td>\n",
       "      <td>...</td>\n",
       "      <td>...</td>\n",
       "      <td>...</td>\n",
       "      <td>...</td>\n",
       "    </tr>\n",
       "    <tr>\n",
       "      <th>12469</th>\n",
       "      <td>19095</td>\n",
       "      <td>99951</td>\n",
       "      <td>2020-06-02 10:28:00+00:00</td>\n",
       "      <td>16</td>\n",
       "      <td>F</td>\n",
       "      <td>Caerphilly</td>\n",
       "      <td>United Kingdom</td>\n",
       "      <td>1</td>\n",
       "      <td>1.0</td>\n",
       "      <td>46.000000</td>\n",
       "      <td>...</td>\n",
       "      <td>0.0</td>\n",
       "      <td>5.427778e-16</td>\n",
       "      <td>685.563889</td>\n",
       "      <td>685.563889</td>\n",
       "      <td>1306.563889</td>\n",
       "      <td>621.0</td>\n",
       "      <td>0-18</td>\n",
       "      <td>2020</td>\n",
       "      <td>6</td>\n",
       "      <td>NaN</td>\n",
       "    </tr>\n",
       "    <tr>\n",
       "      <th>12470</th>\n",
       "      <td>19096</td>\n",
       "      <td>99962</td>\n",
       "      <td>2020-10-10 15:32:00+00:00</td>\n",
       "      <td>49</td>\n",
       "      <td>F</td>\n",
       "      <td>Torremolinos</td>\n",
       "      <td>Spain</td>\n",
       "      <td>3</td>\n",
       "      <td>1.0</td>\n",
       "      <td>347.940004</td>\n",
       "      <td>...</td>\n",
       "      <td>91.0</td>\n",
       "      <td>2.124909e-15</td>\n",
       "      <td>525.352778</td>\n",
       "      <td>343.352778</td>\n",
       "      <td>1176.352778</td>\n",
       "      <td>651.0</td>\n",
       "      <td>41-50</td>\n",
       "      <td>2020</td>\n",
       "      <td>10</td>\n",
       "      <td>NaN</td>\n",
       "    </tr>\n",
       "    <tr>\n",
       "      <th>12471</th>\n",
       "      <td>19100</td>\n",
       "      <td>99982</td>\n",
       "      <td>2020-02-02 12:23:00+00:00</td>\n",
       "      <td>62</td>\n",
       "      <td>F</td>\n",
       "      <td>Madrid</td>\n",
       "      <td>Spain</td>\n",
       "      <td>2</td>\n",
       "      <td>1.0</td>\n",
       "      <td>383.900002</td>\n",
       "      <td>...</td>\n",
       "      <td>564.0</td>\n",
       "      <td>5.766966e-16</td>\n",
       "      <td>1290.484028</td>\n",
       "      <td>726.484028</td>\n",
       "      <td>1427.484028</td>\n",
       "      <td>137.0</td>\n",
       "      <td>61-70</td>\n",
       "      <td>2020</td>\n",
       "      <td>2</td>\n",
       "      <td>NaN</td>\n",
       "    </tr>\n",
       "    <tr>\n",
       "      <th>12472</th>\n",
       "      <td>19102</td>\n",
       "      <td>99997</td>\n",
       "      <td>2023-07-21 12:30:00+00:00</td>\n",
       "      <td>48</td>\n",
       "      <td>M</td>\n",
       "      <td>Malle</td>\n",
       "      <td>Belgium</td>\n",
       "      <td>1</td>\n",
       "      <td>1.0</td>\n",
       "      <td>12.950000</td>\n",
       "      <td>...</td>\n",
       "      <td>0.0</td>\n",
       "      <td>5.955727e-15</td>\n",
       "      <td>62.479167</td>\n",
       "      <td>62.479167</td>\n",
       "      <td>162.479167</td>\n",
       "      <td>100.0</td>\n",
       "      <td>41-50</td>\n",
       "      <td>2023</td>\n",
       "      <td>7</td>\n",
       "      <td>NaN</td>\n",
       "    </tr>\n",
       "    <tr>\n",
       "      <th>12473</th>\n",
       "      <td>19103</td>\n",
       "      <td>99999</td>\n",
       "      <td>2023-10-27 16:52:00+00:00</td>\n",
       "      <td>61</td>\n",
       "      <td>M</td>\n",
       "      <td>Gorzów Wielkopolski</td>\n",
       "      <td>Poland</td>\n",
       "      <td>2</td>\n",
       "      <td>1.0</td>\n",
       "      <td>96.000000</td>\n",
       "      <td>...</td>\n",
       "      <td>5.0</td>\n",
       "      <td>8.004732e-14</td>\n",
       "      <td>9.297222</td>\n",
       "      <td>4.297222</td>\n",
       "      <td>64.297222</td>\n",
       "      <td>55.0</td>\n",
       "      <td>61-70</td>\n",
       "      <td>2023</td>\n",
       "      <td>10</td>\n",
       "      <td>NaN</td>\n",
       "    </tr>\n",
       "  </tbody>\n",
       "</table>\n",
       "<p>12474 rows × 21 columns</p>\n",
       "</div>"
      ],
      "text/plain": [
       "       index user_id         registration_date  age gender  \\\n",
       "0          0      18 2020-06-18 10:15:00+00:00   31      M   \n",
       "1          2      29 2023-09-22 07:18:00+00:00   23      M   \n",
       "2          6      49 2023-04-11 02:46:00+00:00   62      M   \n",
       "3          7      50 2023-05-01 13:46:00+00:00   15      F   \n",
       "4          8      51 2019-07-11 00:19:00+00:00   66      M   \n",
       "...      ...     ...                       ...  ...    ...   \n",
       "12469  19095   99951 2020-06-02 10:28:00+00:00   16      F   \n",
       "12470  19096   99962 2020-10-10 15:32:00+00:00   49      F   \n",
       "12471  19100   99982 2020-02-02 12:23:00+00:00   62      F   \n",
       "12472  19102   99997 2023-07-21 12:30:00+00:00   48      M   \n",
       "12473  19103   99999 2023-10-27 16:52:00+00:00   61      M   \n",
       "\n",
       "                      city         country  total_orders  avg_order_items  \\\n",
       "0             Schwedt/Oder          Poland             1              1.0   \n",
       "1                   Pudsey  United Kingdom             1              2.0   \n",
       "2                 Bailleul          France             1              1.0   \n",
       "3                  Linares           Spain             2              1.5   \n",
       "4                   Siegen         Germany             1              1.0   \n",
       "...                    ...             ...           ...              ...   \n",
       "12469           Caerphilly  United Kingdom             1              1.0   \n",
       "12470         Torremolinos           Spain             3              1.0   \n",
       "12471               Madrid           Spain             2              1.0   \n",
       "12472                Malle         Belgium             1              1.0   \n",
       "12473  Gorzów Wielkopolski          Poland             2              1.0   \n",
       "\n",
       "       total_revenue  ...  avg_days_between_orders  order_frequency_per_year  \\\n",
       "0          46.990002  ...                      0.0              3.922828e-16   \n",
       "1          65.680000  ...                      0.0              1.173999e-14   \n",
       "2          65.000000  ...                      0.0              2.800238e-15   \n",
       "3         512.740005  ...                     79.0              4.291260e-15   \n",
       "4         120.000000  ...                      0.0              4.287034e-16   \n",
       "...              ...  ...                      ...                       ...   \n",
       "12469      46.000000  ...                      0.0              5.427778e-16   \n",
       "12470     347.940004  ...                     91.0              2.124909e-15   \n",
       "12471     383.900002  ...                    564.0              5.766966e-16   \n",
       "12472      12.950000  ...                      0.0              5.955727e-15   \n",
       "12473      96.000000  ...                      5.0              8.004732e-14   \n",
       "\n",
       "       days_since_first_order  days_since_last_order  days_since_registration  \\\n",
       "0                  948.572917             948.572917              1290.572917   \n",
       "1                   31.695833              31.695833                99.695833   \n",
       "2                  132.884722             132.884722               263.884722   \n",
       "3                  173.426389              94.426389               243.426389   \n",
       "4                  867.986806             867.986806              1633.986806   \n",
       "...                       ...                    ...                      ...   \n",
       "12469              685.563889             685.563889              1306.563889   \n",
       "12470              525.352778             343.352778              1176.352778   \n",
       "12471             1290.484028             726.484028              1427.484028   \n",
       "12472               62.479167              62.479167               162.479167   \n",
       "12473                9.297222               4.297222                64.297222   \n",
       "\n",
       "       days_until_first_order  age_class registration_year  \\\n",
       "0                       342.0      31-40              2020   \n",
       "1                        68.0      19-30              2023   \n",
       "2                       131.0      61-70              2023   \n",
       "3                        70.0       0-18              2023   \n",
       "4                       766.0      61-70              2019   \n",
       "...                       ...        ...               ...   \n",
       "12469                   621.0       0-18              2020   \n",
       "12470                   651.0      41-50              2020   \n",
       "12471                   137.0      61-70              2020   \n",
       "12472                   100.0      41-50              2023   \n",
       "12473                    55.0      61-70              2023   \n",
       "\n",
       "       registration_month  has_ordered  \n",
       "0                       6          NaN  \n",
       "1                       9          NaN  \n",
       "2                       4          NaN  \n",
       "3                       5          NaN  \n",
       "4                       7          NaN  \n",
       "...                   ...          ...  \n",
       "12469                   6          NaN  \n",
       "12470                  10          NaN  \n",
       "12471                   2          NaN  \n",
       "12472                   7          NaN  \n",
       "12473                  10          NaN  \n",
       "\n",
       "[12474 rows x 21 columns]"
      ]
     },
     "execution_count": 99,
     "metadata": {},
     "output_type": "execute_result"
    }
   ],
   "source": [
    "all_users = pd.concat([users_with_orders, users_wo_orders]).reset_index()\n",
    "all_users.drop(columns=['first_order_date', 'last_order_date'], inplace=True)\n",
    "all_users"
   ]
  },
  {
   "cell_type": "code",
   "execution_count": 100,
   "id": "5002e0a3",
   "metadata": {},
   "outputs": [
    {
     "data": {
      "text/plain": [
       "Index(['index', 'user_id', 'registration_date', 'age', 'gender', 'city',\n",
       "       'country', 'total_orders', 'avg_order_items', 'total_revenue',\n",
       "       'avg_order_value', 'avg_days_between_orders',\n",
       "       'order_frequency_per_year', 'days_since_first_order',\n",
       "       'days_since_last_order', 'days_since_registration',\n",
       "       'days_until_first_order', 'age_class', 'registration_year',\n",
       "       'registration_month', 'has_ordered'],\n",
       "      dtype='object')"
      ]
     },
     "execution_count": 100,
     "metadata": {},
     "output_type": "execute_result"
    }
   ],
   "source": [
    "all_users.columns"
   ]
  },
  {
   "cell_type": "code",
   "execution_count": 101,
   "id": "54f2c5a2",
   "metadata": {},
   "outputs": [],
   "source": [
    "all_users['avg_order_items'].fillna(0,inplace=True)\n",
    "all_users['avg_order_value'].fillna(0,inplace=True)\n",
    "all_users['order_frequency_per_year'].fillna(0,inplace=True)\n",
    "all_users['days_since_first_order'].fillna(0,inplace=True)\n",
    "all_users['days_since_last_order'].fillna(0,inplace=True)\n",
    "all_users['days_until_first_order'].fillna(0,inplace=True)"
   ]
  },
  {
   "cell_type": "code",
   "execution_count": 102,
   "id": "b9d4195e",
   "metadata": {},
   "outputs": [],
   "source": [
    "all_users['has_ordered'].fillna(1,inplace=True)"
   ]
  },
  {
   "cell_type": "code",
   "execution_count": 103,
   "id": "9ee0f665",
   "metadata": {},
   "outputs": [],
   "source": [
    "all_users['avg_days_between_orders'].fillna(0,inplace=True)"
   ]
  },
  {
   "cell_type": "code",
   "execution_count": 104,
   "id": "e6a8b019",
   "metadata": {},
   "outputs": [],
   "source": [
    "all_users.drop(columns=\"index\",inplace=True)"
   ]
  },
  {
   "cell_type": "code",
   "execution_count": 105,
   "id": "74b83482",
   "metadata": {},
   "outputs": [
    {
     "data": {
      "text/plain": [
       "user_id                                  object\n",
       "registration_date           datetime64[ns, UTC]\n",
       "age                                       int64\n",
       "gender                                   object\n",
       "city                                     object\n",
       "country                                  object\n",
       "total_orders                              int64\n",
       "avg_order_items                         float64\n",
       "total_revenue                           float64\n",
       "avg_order_value                         float64\n",
       "avg_days_between_orders                 float64\n",
       "order_frequency_per_year                float64\n",
       "days_since_first_order                  float64\n",
       "days_since_last_order                   float64\n",
       "days_since_registration                 float64\n",
       "days_until_first_order                  float64\n",
       "age_class                              category\n",
       "registration_year                         int32\n",
       "registration_month                        int32\n",
       "has_ordered                             float64\n",
       "dtype: object"
      ]
     },
     "execution_count": 105,
     "metadata": {},
     "output_type": "execute_result"
    }
   ],
   "source": [
    "all_users.dtypes"
   ]
  },
  {
   "cell_type": "code",
   "execution_count": 106,
   "id": "f9628b08",
   "metadata": {},
   "outputs": [
    {
     "data": {
      "text/plain": [
       "user_id                     0\n",
       "registration_date           0\n",
       "age                         0\n",
       "gender                      0\n",
       "city                        0\n",
       "country                     0\n",
       "first_order_date            0\n",
       "last_order_date             0\n",
       "total_orders                0\n",
       "avg_order_items             0\n",
       "total_revenue               0\n",
       "avg_order_value             0\n",
       "avg_days_between_orders     0\n",
       "order_frequency_per_year    0\n",
       "days_since_first_order      0\n",
       "days_since_last_order       0\n",
       "days_since_registration     0\n",
       "days_until_first_order      0\n",
       "age_class                   0\n",
       "registration_year           0\n",
       "registration_month          0\n",
       "dtype: int64"
      ]
     },
     "execution_count": 106,
     "metadata": {},
     "output_type": "execute_result"
    }
   ],
   "source": [
    "users_with_orders.isnull().sum()"
   ]
  },
  {
   "cell_type": "code",
   "execution_count": 107,
   "id": "bd9ddba6",
   "metadata": {},
   "outputs": [],
   "source": [
    "users_with_orders.to_csv('../data/cleaned/customer_information.csv', index=False)"
   ]
  },
  {
   "cell_type": "code",
   "execution_count": 108,
   "id": "d5841223",
   "metadata": {},
   "outputs": [],
   "source": [
    "all_users.to_csv('../data/cleaned/all_users_information.csv', index=False)"
   ]
  }
 ],
 "metadata": {
  "kernelspec": {
   "display_name": "project_venv",
   "language": "python",
   "name": "project_venv"
  },
  "language_info": {
   "codemirror_mode": {
    "name": "ipython",
    "version": 3
   },
   "file_extension": ".py",
   "mimetype": "text/x-python",
   "name": "python",
   "nbconvert_exporter": "python",
   "pygments_lexer": "ipython3",
   "version": "3.11.5"
  }
 },
 "nbformat": 4,
 "nbformat_minor": 5
}
